{
  "nbformat": 4,
  "nbformat_minor": 0,
  "metadata": {
    "colab": {
      "provenance": [],
      "authorship_tag": "ABX9TyOPBVpnx32bFr9Pe5d36wvM",
      "include_colab_link": true
    },
    "kernelspec": {
      "name": "python3",
      "display_name": "Python 3"
    },
    "language_info": {
      "name": "python"
    }
  },
  "cells": [
    {
      "cell_type": "markdown",
      "metadata": {
        "id": "view-in-github",
        "colab_type": "text"
      },
      "source": [
        "<a href=\"https://colab.research.google.com/github/Lukaxdd/Entregables/blob/main/RETOS/Ari_Vigo_RETOS.ipynb\" target=\"_parent\"><img src=\"https://colab.research.google.com/assets/colab-badge.svg\" alt=\"Open In Colab\"/></a>"
      ]
    },
    {
      "cell_type": "markdown",
      "source": [
        "# Algoritmos - Retos\n",
        "\n",
        "Nombre: Alberto Román José Ari Vigo<br>\n",
        "URL: https://colab.research.google.com/drive/1D2xfzt8lz4oIcoybCmIjIhWeer4KOVTO?usp=sharing\n",
        "\n",
        "https://github.com/Lukaxdd/Entregables.git"
      ],
      "metadata": {
        "id": "7smFMEzVSILa"
      }
    },
    {
      "cell_type": "code",
      "source": [
        "#Importamos las librerias que utilizaremos\n",
        "\n",
        "import numpy as np #para todos los ejercicios\n",
        "from sympy import symbols, diff, sin, cos, exp, lambdify #para el ejercicio 3\n",
        "import math # para el ejercicio 7\n",
        "import random #para el ejercicio 10"
      ],
      "metadata": {
        "id": "V1kLRLMvUxUQ"
      },
      "execution_count": 92,
      "outputs": []
    },
    {
      "cell_type": "markdown",
      "source": [
        "### 1. Implementar el algoritmo de la Criba de Erastótenes para encontrar número primos"
      ],
      "metadata": {
        "id": "nNi4vy5kS5Ku"
      }
    },
    {
      "cell_type": "code",
      "source": [
        "def criba_eratostenes_optimizada(n):\n",
        "    # Creamos un array de booleanos (verdaderos y falsos), uno por cada número hasta n\n",
        "    # Todos se inicializan en True para indicar que todos son primos en un principio\n",
        "    is_prime = np.ones((n,), dtype=bool)\n",
        "\n",
        "    # Sabemos que 0 y 1 no son números primos, por lo que los marcamos como False (no primos)\n",
        "    is_prime[:2] = 0\n",
        "\n",
        "    # Solo necesitamos buscar múltiplos de números hasta la raíz cuadrada de n\n",
        "    # Esto se debe a que cualquier número mayor ya habría sido marcado como múltiplo de un número más pequeño\n",
        "    N_max = int(np.sqrt(len(is_prime) - 1))\n",
        "\n",
        "    # Para cada número j desde 2 hasta N_max\n",
        "    for j in range(2, N_max + 1):\n",
        "        # Si j es primo, entonces todos los múltiplos de j no son primos\n",
        "        # Así que marcamos los múltiplos de j (a partir de 2j y en adelante cada j números) como False (no primos)\n",
        "        is_prime[2*j::j] = False\n",
        "\n",
        "    # Usamos np.nonzero para obtener un array de todos los índices que son True (primos)\n",
        "    # Luego, convertimos este array a una lista de Python y la retornamos\n",
        "    return np.nonzero(is_prime)[0].tolist()\n",
        "\n",
        "n = 10000  # Reemplaza este número con el límite superior que desees\n",
        "primos = criba_eratostenes_optimizada(n)\n",
        "print(primos)\n",
        "\n"
      ],
      "metadata": {
        "colab": {
          "base_uri": "https://localhost:8080/"
        },
        "id": "SUdhtDanSJMI",
        "outputId": "e1dc39de-0a93-4450-bc46-0a77f221b4de"
      },
      "execution_count": 93,
      "outputs": [
        {
          "output_type": "stream",
          "name": "stdout",
          "text": [
            "[2, 3, 5, 7, 11, 13, 17, 19, 23, 29, 31, 37, 41, 43, 47, 53, 59, 61, 67, 71, 73, 79, 83, 89, 97, 101, 103, 107, 109, 113, 127, 131, 137, 139, 149, 151, 157, 163, 167, 173, 179, 181, 191, 193, 197, 199, 211, 223, 227, 229, 233, 239, 241, 251, 257, 263, 269, 271, 277, 281, 283, 293, 307, 311, 313, 317, 331, 337, 347, 349, 353, 359, 367, 373, 379, 383, 389, 397, 401, 409, 419, 421, 431, 433, 439, 443, 449, 457, 461, 463, 467, 479, 487, 491, 499, 503, 509, 521, 523, 541, 547, 557, 563, 569, 571, 577, 587, 593, 599, 601, 607, 613, 617, 619, 631, 641, 643, 647, 653, 659, 661, 673, 677, 683, 691, 701, 709, 719, 727, 733, 739, 743, 751, 757, 761, 769, 773, 787, 797, 809, 811, 821, 823, 827, 829, 839, 853, 857, 859, 863, 877, 881, 883, 887, 907, 911, 919, 929, 937, 941, 947, 953, 967, 971, 977, 983, 991, 997, 1009, 1013, 1019, 1021, 1031, 1033, 1039, 1049, 1051, 1061, 1063, 1069, 1087, 1091, 1093, 1097, 1103, 1109, 1117, 1123, 1129, 1151, 1153, 1163, 1171, 1181, 1187, 1193, 1201, 1213, 1217, 1223, 1229, 1231, 1237, 1249, 1259, 1277, 1279, 1283, 1289, 1291, 1297, 1301, 1303, 1307, 1319, 1321, 1327, 1361, 1367, 1373, 1381, 1399, 1409, 1423, 1427, 1429, 1433, 1439, 1447, 1451, 1453, 1459, 1471, 1481, 1483, 1487, 1489, 1493, 1499, 1511, 1523, 1531, 1543, 1549, 1553, 1559, 1567, 1571, 1579, 1583, 1597, 1601, 1607, 1609, 1613, 1619, 1621, 1627, 1637, 1657, 1663, 1667, 1669, 1693, 1697, 1699, 1709, 1721, 1723, 1733, 1741, 1747, 1753, 1759, 1777, 1783, 1787, 1789, 1801, 1811, 1823, 1831, 1847, 1861, 1867, 1871, 1873, 1877, 1879, 1889, 1901, 1907, 1913, 1931, 1933, 1949, 1951, 1973, 1979, 1987, 1993, 1997, 1999, 2003, 2011, 2017, 2027, 2029, 2039, 2053, 2063, 2069, 2081, 2083, 2087, 2089, 2099, 2111, 2113, 2129, 2131, 2137, 2141, 2143, 2153, 2161, 2179, 2203, 2207, 2213, 2221, 2237, 2239, 2243, 2251, 2267, 2269, 2273, 2281, 2287, 2293, 2297, 2309, 2311, 2333, 2339, 2341, 2347, 2351, 2357, 2371, 2377, 2381, 2383, 2389, 2393, 2399, 2411, 2417, 2423, 2437, 2441, 2447, 2459, 2467, 2473, 2477, 2503, 2521, 2531, 2539, 2543, 2549, 2551, 2557, 2579, 2591, 2593, 2609, 2617, 2621, 2633, 2647, 2657, 2659, 2663, 2671, 2677, 2683, 2687, 2689, 2693, 2699, 2707, 2711, 2713, 2719, 2729, 2731, 2741, 2749, 2753, 2767, 2777, 2789, 2791, 2797, 2801, 2803, 2819, 2833, 2837, 2843, 2851, 2857, 2861, 2879, 2887, 2897, 2903, 2909, 2917, 2927, 2939, 2953, 2957, 2963, 2969, 2971, 2999, 3001, 3011, 3019, 3023, 3037, 3041, 3049, 3061, 3067, 3079, 3083, 3089, 3109, 3119, 3121, 3137, 3163, 3167, 3169, 3181, 3187, 3191, 3203, 3209, 3217, 3221, 3229, 3251, 3253, 3257, 3259, 3271, 3299, 3301, 3307, 3313, 3319, 3323, 3329, 3331, 3343, 3347, 3359, 3361, 3371, 3373, 3389, 3391, 3407, 3413, 3433, 3449, 3457, 3461, 3463, 3467, 3469, 3491, 3499, 3511, 3517, 3527, 3529, 3533, 3539, 3541, 3547, 3557, 3559, 3571, 3581, 3583, 3593, 3607, 3613, 3617, 3623, 3631, 3637, 3643, 3659, 3671, 3673, 3677, 3691, 3697, 3701, 3709, 3719, 3727, 3733, 3739, 3761, 3767, 3769, 3779, 3793, 3797, 3803, 3821, 3823, 3833, 3847, 3851, 3853, 3863, 3877, 3881, 3889, 3907, 3911, 3917, 3919, 3923, 3929, 3931, 3943, 3947, 3967, 3989, 4001, 4003, 4007, 4013, 4019, 4021, 4027, 4049, 4051, 4057, 4073, 4079, 4091, 4093, 4099, 4111, 4127, 4129, 4133, 4139, 4153, 4157, 4159, 4177, 4201, 4211, 4217, 4219, 4229, 4231, 4241, 4243, 4253, 4259, 4261, 4271, 4273, 4283, 4289, 4297, 4327, 4337, 4339, 4349, 4357, 4363, 4373, 4391, 4397, 4409, 4421, 4423, 4441, 4447, 4451, 4457, 4463, 4481, 4483, 4493, 4507, 4513, 4517, 4519, 4523, 4547, 4549, 4561, 4567, 4583, 4591, 4597, 4603, 4621, 4637, 4639, 4643, 4649, 4651, 4657, 4663, 4673, 4679, 4691, 4703, 4721, 4723, 4729, 4733, 4751, 4759, 4783, 4787, 4789, 4793, 4799, 4801, 4813, 4817, 4831, 4861, 4871, 4877, 4889, 4903, 4909, 4919, 4931, 4933, 4937, 4943, 4951, 4957, 4967, 4969, 4973, 4987, 4993, 4999, 5003, 5009, 5011, 5021, 5023, 5039, 5051, 5059, 5077, 5081, 5087, 5099, 5101, 5107, 5113, 5119, 5147, 5153, 5167, 5171, 5179, 5189, 5197, 5209, 5227, 5231, 5233, 5237, 5261, 5273, 5279, 5281, 5297, 5303, 5309, 5323, 5333, 5347, 5351, 5381, 5387, 5393, 5399, 5407, 5413, 5417, 5419, 5431, 5437, 5441, 5443, 5449, 5471, 5477, 5479, 5483, 5501, 5503, 5507, 5519, 5521, 5527, 5531, 5557, 5563, 5569, 5573, 5581, 5591, 5623, 5639, 5641, 5647, 5651, 5653, 5657, 5659, 5669, 5683, 5689, 5693, 5701, 5711, 5717, 5737, 5741, 5743, 5749, 5779, 5783, 5791, 5801, 5807, 5813, 5821, 5827, 5839, 5843, 5849, 5851, 5857, 5861, 5867, 5869, 5879, 5881, 5897, 5903, 5923, 5927, 5939, 5953, 5981, 5987, 6007, 6011, 6029, 6037, 6043, 6047, 6053, 6067, 6073, 6079, 6089, 6091, 6101, 6113, 6121, 6131, 6133, 6143, 6151, 6163, 6173, 6197, 6199, 6203, 6211, 6217, 6221, 6229, 6247, 6257, 6263, 6269, 6271, 6277, 6287, 6299, 6301, 6311, 6317, 6323, 6329, 6337, 6343, 6353, 6359, 6361, 6367, 6373, 6379, 6389, 6397, 6421, 6427, 6449, 6451, 6469, 6473, 6481, 6491, 6521, 6529, 6547, 6551, 6553, 6563, 6569, 6571, 6577, 6581, 6599, 6607, 6619, 6637, 6653, 6659, 6661, 6673, 6679, 6689, 6691, 6701, 6703, 6709, 6719, 6733, 6737, 6761, 6763, 6779, 6781, 6791, 6793, 6803, 6823, 6827, 6829, 6833, 6841, 6857, 6863, 6869, 6871, 6883, 6899, 6907, 6911, 6917, 6947, 6949, 6959, 6961, 6967, 6971, 6977, 6983, 6991, 6997, 7001, 7013, 7019, 7027, 7039, 7043, 7057, 7069, 7079, 7103, 7109, 7121, 7127, 7129, 7151, 7159, 7177, 7187, 7193, 7207, 7211, 7213, 7219, 7229, 7237, 7243, 7247, 7253, 7283, 7297, 7307, 7309, 7321, 7331, 7333, 7349, 7351, 7369, 7393, 7411, 7417, 7433, 7451, 7457, 7459, 7477, 7481, 7487, 7489, 7499, 7507, 7517, 7523, 7529, 7537, 7541, 7547, 7549, 7559, 7561, 7573, 7577, 7583, 7589, 7591, 7603, 7607, 7621, 7639, 7643, 7649, 7669, 7673, 7681, 7687, 7691, 7699, 7703, 7717, 7723, 7727, 7741, 7753, 7757, 7759, 7789, 7793, 7817, 7823, 7829, 7841, 7853, 7867, 7873, 7877, 7879, 7883, 7901, 7907, 7919, 7927, 7933, 7937, 7949, 7951, 7963, 7993, 8009, 8011, 8017, 8039, 8053, 8059, 8069, 8081, 8087, 8089, 8093, 8101, 8111, 8117, 8123, 8147, 8161, 8167, 8171, 8179, 8191, 8209, 8219, 8221, 8231, 8233, 8237, 8243, 8263, 8269, 8273, 8287, 8291, 8293, 8297, 8311, 8317, 8329, 8353, 8363, 8369, 8377, 8387, 8389, 8419, 8423, 8429, 8431, 8443, 8447, 8461, 8467, 8501, 8513, 8521, 8527, 8537, 8539, 8543, 8563, 8573, 8581, 8597, 8599, 8609, 8623, 8627, 8629, 8641, 8647, 8663, 8669, 8677, 8681, 8689, 8693, 8699, 8707, 8713, 8719, 8731, 8737, 8741, 8747, 8753, 8761, 8779, 8783, 8803, 8807, 8819, 8821, 8831, 8837, 8839, 8849, 8861, 8863, 8867, 8887, 8893, 8923, 8929, 8933, 8941, 8951, 8963, 8969, 8971, 8999, 9001, 9007, 9011, 9013, 9029, 9041, 9043, 9049, 9059, 9067, 9091, 9103, 9109, 9127, 9133, 9137, 9151, 9157, 9161, 9173, 9181, 9187, 9199, 9203, 9209, 9221, 9227, 9239, 9241, 9257, 9277, 9281, 9283, 9293, 9311, 9319, 9323, 9337, 9341, 9343, 9349, 9371, 9377, 9391, 9397, 9403, 9413, 9419, 9421, 9431, 9433, 9437, 9439, 9461, 9463, 9467, 9473, 9479, 9491, 9497, 9511, 9521, 9533, 9539, 9547, 9551, 9587, 9601, 9613, 9619, 9623, 9629, 9631, 9643, 9649, 9661, 9677, 9679, 9689, 9697, 9719, 9721, 9733, 9739, 9743, 9749, 9767, 9769, 9781, 9787, 9791, 9803, 9811, 9817, 9829, 9833, 9839, 9851, 9857, 9859, 9871, 9883, 9887, 9901, 9907, 9923, 9929, 9931, 9941, 9949, 9967, 9973]\n"
          ]
        }
      ]
    },
    {
      "cell_type": "markdown",
      "source": [
        "### 2. Resolver el problema de las Torres de Hanoi para un número arbitrario de fichas."
      ],
      "metadata": {
        "id": "8LCxS8E_U_11"
      }
    },
    {
      "cell_type": "code",
      "execution_count": 94,
      "metadata": {
        "colab": {
          "base_uri": "https://localhost:8080/"
        },
        "id": "h_tJQVS9SD8w",
        "outputId": "050e351f-92ae-4a9e-ee40-a75204229f94"
      },
      "outputs": [
        {
          "output_type": "stream",
          "name": "stdout",
          "text": [
            "Mover el disco de la torre A a la torre C\n",
            "Mover el disco de la torre A a la torre B\n",
            "Mover el disco de la torre C a la torre B\n",
            "Mover el disco de la torre A a la torre C\n",
            "Mover el disco de la torre B a la torre A\n",
            "Mover el disco de la torre B a la torre C\n",
            "Mover el disco de la torre A a la torre C\n"
          ]
        }
      ],
      "source": [
        "# La función hanoi resuelve el problema de las Torres de Hanoi para un número de discos n.\n",
        "# Los parámetros de la función representan las torres: origen, auxiliar y destino.\n",
        "def hanoi(n, origen, auxiliar, destino):\n",
        "    # Si hay al menos un disco para mover...\n",
        "    if n > 0:\n",
        "        # Primero, resolvemos el problema para n-1 discos, moviendo estos de la torre origen a la torre auxiliar.\n",
        "        # Esto se hace usando la torre destino como espacio auxiliar.\n",
        "        hanoi(n - 1, origen, destino, auxiliar)\n",
        "\n",
        "        # Una vez que los n-1 discos se han movido a la torre auxiliar, podemos mover el disco restante\n",
        "        # (el más grande) de la torre origen a la torre destino.\n",
        "        print('Mover el disco de la torre', origen, 'a la torre', destino)\n",
        "\n",
        "        # Ahora, nos queda resolver el problema original, pero esta vez para los n-1 discos que hemos movido\n",
        "        # previamente a la torre auxiliar. Los movemos a la torre destino usando la torre origen como espacio auxiliar.\n",
        "        hanoi(n - 1, auxiliar, origen, destino)\n",
        "\n",
        "# Número de discos con los que queremos resolver el problema de las Torres de Hanoi\n",
        "n = 3\n",
        "\n",
        "# Llamamos a la función hanoi con los nombres de las torres y el número de discos.\n",
        "hanoi(n, 'A', 'B', 'C')"
      ]
    },
    {
      "cell_type": "markdown",
      "source": [
        "### 3. Optimización de la función: $$ f(x, y) = \\sin\\left(\\frac{1}{2}x^2 - \\frac{1}{4}y^2 + 3\\right) \\cos\\left(2x + 1 - e^y\\right) $$ mediante el algoritmo por descenso del gradiente."
      ],
      "metadata": {
        "id": "Fk2xxok4WYzD"
      }
    },
    {
      "cell_type": "code",
      "source": [
        "# Definimos las variables simbólicas que vamos a usar\n",
        "x, y = symbols('x y')\n",
        "\n",
        "# Definimos la función que queremos optimizar\n",
        "f = sin(0.5 * x**2 - 0.25 * y**2 + 3) * cos(2 * x + 1 - exp(y))\n",
        "\n",
        "# Usamos sympy.diff para calcular las derivadas parciales de la función con respecto a x e y\n",
        "df_dx = diff(f, x)\n",
        "df_dy = diff(f, y)\n",
        "\n",
        "# Convertimos las derivadas simbólicas a funciones que se pueden evaluar numéricamente\n",
        "df_dx_func = lambdify((x, y), df_dx, \"numpy\")\n",
        "df_dy_func = lambdify((x, y), df_dy, \"numpy\")\n",
        "\n",
        "# Definimos los parámetros para el algoritmo de descenso del gradiente\n",
        "alpha = 0.01  # Tasa de aprendizaje. Define cuánto vamos a avanzar en la dirección del gradiente en cada paso\n",
        "precision = 0.0001  # Precisión deseada. Cuando la actualización de las variables sea menor que esto, pararemos el algoritmo\n",
        "max_iters = 10000  # Número máximo de iteraciones. Evita que el algoritmo continúe indefinidamente si no alcanza la precisión deseada\n",
        "\n",
        "# Definimos el punto inicial para el algoritmo de descenso del gradiente\n",
        "x_current = 5\n",
        "y_current = 6\n",
        "\n",
        "# Bucle principal del descenso del gradiente\n",
        "for _ in range(max_iters):\n",
        "    # Calculamos las nuevas coordenadas x, y moviéndonos en la dirección del gradiente negativo\n",
        "    x_new = x_current - alpha * df_dx_func(x_current, y_current)\n",
        "    y_new = y_current - alpha * df_dy_func(x_current, y_current)\n",
        "\n",
        "    # Si la actualización de las variables es menor que la precisión deseada, paramos el algoritmo\n",
        "    if abs(x_new - x_current) < precision and abs(y_new - y_current) < precision:\n",
        "        break\n",
        "\n",
        "    # Actualizamos las coordenadas para el siguiente paso\n",
        "    x_current = x_new\n",
        "    y_current = y_new\n",
        "\n",
        "print(f\"El mínimo local se produce en: x = {x_current}, y = {y_current}\")"
      ],
      "metadata": {
        "colab": {
          "base_uri": "https://localhost:8080/"
        },
        "id": "7CAsptmGWXTY",
        "outputId": "fcb53482-02d5-42d1-d8cc-8a94267641ba"
      },
      "execution_count": 95,
      "outputs": [
        {
          "output_type": "stream",
          "name": "stdout",
          "text": [
            "El mínimo local se produce en: x = 4.718639193896785, y = 0.002533206407658688\n"
          ]
        }
      ]
    },
    {
      "cell_type": "markdown",
      "source": [
        "### 4. Implementar el algoritmo del descenso por gradiente para el problema de la regresión lineal simple."
      ],
      "metadata": {
        "id": "N-XkNUoEXXyz"
      }
    },
    {
      "cell_type": "code",
      "source": [
        "# Suponemos que tenemos las siguientes entradas (X) y salidas (Y)\n",
        "X = np.array([1, 2, 3, 4, 5])\n",
        "Y = np.array([2, 4, 5, 4, 5])\n",
        "\n",
        "# Parámetros iniciales para la regresión lineal (y = mx + b)\n",
        "m = 0\n",
        "b = 0\n",
        "\n",
        "# Tasa de aprendizaje. Este es el tamaño del paso que tomamos en cada iteración del descenso del gradiente.\n",
        "alpha = 0.01\n",
        "\n",
        "# Número de iteraciones. Este es el número de pasos que vamos a dar en el descenso del gradiente.\n",
        "iterations = 1000\n",
        "\n",
        "# Iniciamos el bucle de descenso del gradiente\n",
        "for _ in range(iterations):\n",
        "    # Con los parámetros actuales (m y b), calculamos las predicciones de salida (Y_pred)\n",
        "    Y_pred = m * X + b\n",
        "\n",
        "    # Calculamos el error como la diferencia entre las salidas reales y las predicciones\n",
        "    error = Y - Y_pred\n",
        "\n",
        "    # Actualizamos los parámetros m y b, moviéndonos en la dirección que reduce el error.\n",
        "    # La cantidad que movemos los parámetros es proporcional al gradiente del error con respecto a los parámetros,\n",
        "    # que se calcula como la derivada del error cuadrático medio con respecto a los parámetros.\n",
        "    m = m - alpha * (-2 * np.sum(error * X) / len(X))\n",
        "    b = b - alpha * (-2 * np.sum(error) / len(X))\n",
        "\n",
        "print(f\"Los valores óptimos son m = {m}, b = {b}\")"
      ],
      "metadata": {
        "colab": {
          "base_uri": "https://localhost:8080/"
        },
        "id": "N98sX2qeXzI3",
        "outputId": "701b7a1b-25ad-4747-c892-53c16f84d46b"
      },
      "execution_count": 96,
      "outputs": [
        {
          "output_type": "stream",
          "name": "stdout",
          "text": [
            "Los valores óptimos son m = 0.6176946148762643, b = 2.136116825825789\n"
          ]
        }
      ]
    },
    {
      "cell_type": "markdown",
      "source": [
        "### 5. Mejorar la implementación de búsqueda local implementada en la AG3 (TSP)  con otros operadores de vecindad."
      ],
      "metadata": {
        "id": "juJYI3ByYPdU"
      }
    },
    {
      "cell_type": "code",
      "source": [
        "def distancia(ruta, distancias):\n",
        "    # Esta función calcula la distancia total de la ruta dada.\n",
        "    # Para cada par de ciudades consecutivas en la ruta, suma la distancia entre ellas.\n",
        "    return np.sum([distancias[ruta[i-1]][ruta[i]] for i in range(len(ruta))])\n",
        "\n",
        "def generar_vecinos(ruta):\n",
        "    # Esta función genera todas las posibles soluciones vecinas de una ruta dada\n",
        "    # aplicando el operador de intercambio 2-opt.\n",
        "    # El operador de intercambio 2-opt elige dos aristas en la ruta y las reconecta de una manera diferente.\n",
        "    vecinos = []\n",
        "    for i in range(1, len(ruta)-1):\n",
        "        for j in range(i+1, len(ruta)):\n",
        "            nueva_ruta = ruta.copy()\n",
        "            nueva_ruta[i:j] = reversed(ruta[i:j])  # Aquí se aplica el operador de intercambio 2-opt\n",
        "            vecinos.append(nueva_ruta)\n",
        "    return vecinos\n",
        "\n",
        "def busqueda_local(distancias):\n",
        "    # Esta es la función principal que realiza la búsqueda local para el problema del viajante de comercio.\n",
        "\n",
        "    # Inicializamos la ruta inicial de manera aleatoria\n",
        "    ruta = list(np.random.permutation(len(distancias)))\n",
        "\n",
        "    # Bucle principal de la búsqueda local\n",
        "    while True:\n",
        "        # Generamos todas las soluciones vecinas de la ruta actual\n",
        "        vecinos = generar_vecinos(ruta)\n",
        "\n",
        "        # Calculamos la distancia total de cada solución vecina\n",
        "        distancias_vecinos = [distancia(vecino, distancias) for vecino in vecinos]\n",
        "\n",
        "        # Elegimos la solución vecina con la menor distancia total\n",
        "        mejor_vecino, mejor_distancia = min(zip(vecinos, distancias_vecinos), key=lambda x: x[1])\n",
        "\n",
        "        # Si la distancia total de la mejor solución vecina es menor que la de la ruta actual,\n",
        "        # actualizamos la ruta actual a la mejor solución vecina\n",
        "        if mejor_distancia < distancia(ruta, distancias):\n",
        "            ruta = mejor_vecino\n",
        "        else:\n",
        "            # Si no encontramos una solución vecina con una distancia total menor,\n",
        "            # terminamos el bucle y retornamos la ruta actual y su distancia total.\n",
        "            break\n",
        "\n",
        "    return ruta, distancia(ruta, distancias)\n",
        "\n",
        "# Definimos la matriz de distancias\n",
        "distancias = np.array([\n",
        "    [0, 1, 2, 3, 4],\n",
        "    [1, 0, 5, 6, 7],\n",
        "    [2, 5, 0, 8, 9],\n",
        "    [3, 6, 8, 0, 10],\n",
        "    [4, 7, 9, 10, 0]\n",
        "])\n",
        "\n",
        "# Ejecutar la búsqueda local\n",
        "ruta, dist = busqueda_local(distancias)\n",
        "\n",
        "# Imprimir la mejor ruta encontrada y su distancia total\n",
        "print(f\"La mejor ruta encontrada es: {ruta}\")\n",
        "print(f\"La distancia total de esta ruta es: {dist}\")\n"
      ],
      "metadata": {
        "colab": {
          "base_uri": "https://localhost:8080/"
        },
        "id": "VywtgMoUYSIn",
        "outputId": "ec18fc40-6de8-47a8-a75f-60a29a9ec490"
      },
      "execution_count": 97,
      "outputs": [
        {
          "output_type": "stream",
          "name": "stdout",
          "text": [
            "La mejor ruta encontrada es: [3, 1, 2, 0, 4]\n",
            "La distancia total de esta ruta es: 27\n"
          ]
        }
      ]
    },
    {
      "cell_type": "markdown",
      "source": [
        "### 6. Implementar el algoritmo de búsqueda tabú para el TSP de la AG3."
      ],
      "metadata": {
        "id": "3CRx-lEJZwoy"
      }
    },
    {
      "cell_type": "code",
      "source": [
        "import numpy as np\n",
        "\n",
        "# La función calcular_costo toma una ruta y una matriz de distancias y calcula el costo total de la ruta.\n",
        "def calcular_costo(ruta, matriz_distancias):\n",
        "    costo_total = 0\n",
        "    for i in range(len(ruta) - 1):\n",
        "        costo_total += matriz_distancias[ruta[i]][ruta[i + 1]]  # Suma la distancia entre cada par de ciudades consecutivas\n",
        "    costo_total += matriz_distancias[ruta[-1]][ruta[0]]  # Agrega la distancia para regresar al inicio\n",
        "    return costo_total\n",
        "\n",
        "# La función obtener_vecino toma una ruta y genera una nueva ruta al intercambiar aleatoriamente dos ciudades en la ruta.\n",
        "def obtener_vecino(ruta_actual):\n",
        "    ciudad1 = np.random.randint(0, len(ruta_actual))\n",
        "    ciudad2 = np.random.randint(0, len(ruta_actual))\n",
        "    vecino = ruta_actual.copy()\n",
        "    vecino[ciudad1], vecino[ciudad2] = vecino[ciudad2], vecino[ciudad1]  # Intercambia las posiciones de dos ciudades\n",
        "    return vecino\n",
        "\n",
        "# La función busqueda_tabu implementa el algoritmo de búsqueda tabú para el problema del viajante de comercio.\n",
        "def busqueda_tabu(matriz_distancias, num_iteraciones, tamaño_tabu):\n",
        "    # Inicia una ruta de manera aleatoria\n",
        "    ruta_actual = list(range(len(matriz_distancias)))\n",
        "    ruta_mejor = ruta_actual.copy()  # Guarda la mejor ruta encontrada hasta ahora\n",
        "    costo_mejor = calcular_costo(ruta_actual, matriz_distancias)  # Guarda el costo de la mejor ruta encontrada hasta ahora\n",
        "\n",
        "    # Inicializa una lista tabú para guardar las rutas recientes\n",
        "    lista_tabu = []\n",
        "\n",
        "    for _ in range(num_iteraciones):\n",
        "        # Genera vecinos de la ruta actual y calcula sus costos\n",
        "        vecinos = [obtener_vecino(ruta_actual) for _ in range(20)]\n",
        "        vecinos_costos = [calcular_costo(vecino, matriz_distancias) for vecino in vecinos]\n",
        "        vecinos, vecinos_costos = zip(*sorted(zip(vecinos, vecinos_costos)))  # Ordena los vecinos y sus costos\n",
        "\n",
        "        # Selecciona el mejor vecino que no está en la lista tabú\n",
        "        for v, c in zip(vecinos, vecinos_costos):\n",
        "            if v not in lista_tabu:\n",
        "                ruta_actual = v  # Actualiza la ruta actual al mejor vecino no tabú encontrado\n",
        "                costo_actual = c\n",
        "                break\n",
        "\n",
        "        # Si la ruta actual es mejor que la mejor ruta hasta ahora, la actualiza\n",
        "        if costo_actual < costo_mejor:\n",
        "            ruta_mejor = ruta_actual\n",
        "            costo_mejor = costo_actual\n",
        "\n",
        "        # Añade la ruta actual a la lista tabú\n",
        "        lista_tabu.append(ruta_actual)\n",
        "        if len(lista_tabu) > tamaño_tabu:  # Si la lista tabú es demasiado grande, quita la ruta más antigua\n",
        "            lista_tabu.pop(0)\n",
        "\n",
        "    # Devuelve la mejor ruta y su costo\n",
        "    return ruta_mejor, costo_mejor\n",
        "\n",
        "# Definimos la matriz de distancias\n",
        "distancias = np.array([\n",
        "    [0, 1, 2, 3, 4],\n",
        "    [1, 0, 5, 6, 7],\n",
        "    [2, 5, 0, 8, 9],\n",
        "    [3, 6, 8, 0, 10],\n",
        "    [4, 7, 9, 10, 0]\n",
        "])\n",
        "\n",
        "# Ejecuta la búsqueda tabú y guarda la mejor ruta y su costo\n",
        "mejor_ruta, mejor_costo = busqueda_tabu(distancias, 1000, 10)\n",
        "\n",
        "# Imprime la mejor ruta y su costo\n",
        "print(f\"La mejor ruta encontrada es: {mejor_ruta}\")\n",
        "print(f\"El costo de esta ruta es: {mejor_costo}\")\n"
      ],
      "metadata": {
        "colab": {
          "base_uri": "https://localhost:8080/"
        },
        "id": "NPrWuRr-Zz5w",
        "outputId": "a2c40e07-f7e7-4775-808b-4a75f8a0b0cf"
      },
      "execution_count": 98,
      "outputs": [
        {
          "output_type": "stream",
          "name": "stdout",
          "text": [
            "La mejor ruta encontrada es: [0, 2, 3, 1, 4]\n",
            "El costo de esta ruta es: 27\n"
          ]
        }
      ]
    },
    {
      "cell_type": "markdown",
      "source": [
        "### 7. Mejorar la implementación de recocido simulado en la AG3 (TSP) eligiendo una generación de solución vecina con un grado de aleatoriedad menor (función genera_vecino_aleatorio())."
      ],
      "metadata": {
        "id": "x0VLpvFHdEYH"
      }
    },
    {
      "cell_type": "code",
      "source": [
        "# Función para calcular la distancia total de una ruta\n",
        "def calcular_distancia(ruta, distancias):\n",
        "    # Inicializa la distancia total a cero\n",
        "    distancia_total = 0\n",
        "    # Para cada ciudad en la ruta (excepto la última)\n",
        "    for i in range(len(ruta) - 1):\n",
        "        # Añade la distancia al siguiente en la ruta\n",
        "        distancia_total += distancias[ruta[i]][ruta[i + 1]]\n",
        "    # Añade la distancia de la última ciudad a la primera para completar el ciclo\n",
        "    distancia_total += distancias[ruta[-1]][ruta[0]]\n",
        "    # Devuelve la distancia total calculada\n",
        "    return distancia_total\n",
        "\n",
        "# Función para generar una nueva ruta (vecino) al intercambiar dos ciudades adyacentes\n",
        "def genera_vecino_aleatorio(ruta):\n",
        "    # En lugar de escoger dos ciudades aleatorias, escoge una ciudad al azar y la siguiente en la ruta\n",
        "    i = np.random.choice(len(ruta))\n",
        "    j = (i + 1) % len(ruta)\n",
        "    # Crea una copia de la ruta para no modificar la original\n",
        "    vecino = ruta[:]\n",
        "    # Intercambia las dos ciudades seleccionadas\n",
        "    vecino[i], vecino[j] = vecino[j], vecino[i]\n",
        "    # Devuelve la nueva ruta\n",
        "    return vecino\n",
        "\n",
        "# Función de recocido simulado para el problema del vendedor viajero\n",
        "def recocido_simulado(distancias, temperatura, enfriamiento, iteraciones_por_temp):\n",
        "    # El número de ciudades es el tamaño de la matriz de distancias\n",
        "    num_ciudades = len(distancias)\n",
        "    # Comienza con una ruta que simplemente visita las ciudades en orden\n",
        "    ruta_actual = list(range(num_ciudades))\n",
        "    # La mejor ruta encontrada hasta ahora es la ruta inicial\n",
        "    mejor_ruta = ruta_actual[:]\n",
        "    # Calcula la distancia de la ruta inicial\n",
        "    mejor_distancia = calcular_distancia(ruta_actual, distancias)\n",
        "\n",
        "    # Realiza un ciclo para cada temperatura\n",
        "    for _ in range(iteraciones_por_temp):\n",
        "        # Realiza un ciclo para cada ciudad\n",
        "        for _ in range(num_ciudades):\n",
        "            # Genera una nueva ruta al intercambiar dos ciudades\n",
        "            vecino = genera_vecino_aleatorio(ruta_actual)\n",
        "            # Calcula la distancia de la nueva ruta\n",
        "            distancia_vecino = calcular_distancia(vecino, distancias)\n",
        "            # Calcula la diferencia entre la distancia del vecino y la distancia actual\n",
        "            diferencia = distancia_vecino - calcular_distancia(ruta_actual, distancias)\n",
        "            # Si la nueva distancia es menor, o si un número aleatorio es menor que e^(-diferencia/temperatura)\n",
        "            if diferencia < 0 or np.random.rand() < math.exp(-diferencia / temperatura):\n",
        "                # Haz de la nueva ruta la ruta actual\n",
        "                ruta_actual = vecino\n",
        "                # Si la nueva distancia es menor que la mejor distancia encontrada hasta ahora\n",
        "                if distancia_vecino < mejor_distancia:\n",
        "                    # Actualiza la mejor distancia y la mejor ruta\n",
        "                    mejor_distancia = distancia_vecino\n",
        "                    mejor_ruta = vecino\n",
        "        # Reduce la temperatura de acuerdo al factor de enfriamiento\n",
        "        temperatura *= enfriamiento\n",
        "\n",
        "    # Devuelve la mejor ruta encontrada y su distancia\n",
        "    return mejor_ruta, mejor_distancia\n",
        "\n",
        "# Definimos la matriz de distancias\n",
        "distancias = np.array([\n",
        "    [0, 1, 2, 3, 4],\n",
        "    [1, 0, 5, 6, 7],\n",
        "    [2, 5, 0, 8, 9],\n",
        "    [3, 6, 8, 0, 10],\n",
        "    [4, 7, 9, 10, 0]\n",
        "])\n",
        "\n",
        "# Ejecuta el algoritmo de recocido simulado\n",
        "mejor_ruta, mejor_costo = recocido_simulado(distancias, 1000, 0.995, 1000)\n",
        "\n",
        "# Imprime la mejor ruta y su costo\n",
        "print(\"Mejor ruta: \", mejor_ruta)\n",
        "print(\"Mejor costo: \", mejor_costo)\n"
      ],
      "metadata": {
        "colab": {
          "base_uri": "https://localhost:8080/"
        },
        "id": "OVRHqqIMcyq3",
        "outputId": "13c49415-c4ee-4d05-f4d7-9689110316f8"
      },
      "execution_count": 99,
      "outputs": [
        {
          "output_type": "stream",
          "name": "stdout",
          "text": [
            "Mejor ruta:  [4, 1, 2, 3, 0]\n",
            "Mejor costo:  27\n"
          ]
        }
      ]
    },
    {
      "cell_type": "markdown",
      "source": [
        "### 8. Mejorar la implementación de colonia de hormigas en la AG3 (TSP) mediante una asignación inicial de feromonas más inteligente."
      ],
      "metadata": {
        "id": "FuhmgBlSeuYz"
      }
    },
    {
      "cell_type": "code",
      "source": [
        "import numpy as np\n",
        "\n",
        "def hormigas_colonia(distancias, n_hormigas, evaporacion, alpha, beta, iteraciones):\n",
        "    # número de ciudades\n",
        "    num_ciudades = len(distancias)\n",
        "\n",
        "    # inicializamos los niveles de feromonas en 1 para cada camino entre ciudades\n",
        "    feromonas = np.ones((num_ciudades, num_ciudades))\n",
        "\n",
        "    # inicializamos la mejor ruta y la mejor distancia con valores vacíos\n",
        "    mejor_ruta = None\n",
        "    mejor_distancia = np.inf\n",
        "\n",
        "    # iteramos sobre el número de iteraciones\n",
        "    for _ in range(iteraciones):\n",
        "\n",
        "        # inicializamos las rutas de las hormigas\n",
        "        rutas_hormigas = []\n",
        "\n",
        "        # por cada hormiga\n",
        "        for _ in range(n_hormigas):\n",
        "\n",
        "            # cada hormiga comienza en una ciudad aleatoria\n",
        "            ruta = [np.random.randint(num_ciudades)]\n",
        "\n",
        "            # cada hormiga construye su ruta\n",
        "            for _ in range(num_ciudades - 1):\n",
        "\n",
        "                # calculamos las probabilidades de las siguientes ciudades\n",
        "                p = feromonas[ruta[-1]] ** alpha * ((1.0 / distancias[ruta[-1]]) ** beta)\n",
        "\n",
        "                # excluimos las ciudades ya visitadas\n",
        "                p[ruta] = 0\n",
        "\n",
        "                # normalizamos para convertir en probabilidad\n",
        "                p = p / p.sum()\n",
        "\n",
        "                # la hormiga elige la siguiente ciudad\n",
        "                ruta.append(np.random.choice(num_ciudades, p=p))\n",
        "\n",
        "            # añadimos la ruta de la hormiga a la lista de rutas\n",
        "            rutas_hormigas.append(ruta)\n",
        "\n",
        "        # reducimos las feromonas (evaporación)\n",
        "        feromonas *= evaporacion\n",
        "\n",
        "        # actualizamos las feromonas basándonos en las rutas de las hormigas\n",
        "        for ruta in rutas_hormigas:\n",
        "\n",
        "            # calculamos la distancia de la ruta\n",
        "            distancia = sum(distancias[ruta[i-1]][ruta[i]] for i in range(num_ciudades))\n",
        "\n",
        "            # si la distancia es mejor que la mejor encontrada hasta ahora, la actualizamos\n",
        "            if distancia < mejor_distancia:\n",
        "                mejor_distancia = distancia\n",
        "                mejor_ruta = ruta\n",
        "\n",
        "            # la hormiga añade feromonas a su ruta\n",
        "            feromonas[ruta[:-1], ruta[1:]] += 1.0 / distancia\n",
        "\n",
        "    # devolvemos la mejor ruta y la mejor distancia encontradas\n",
        "    return mejor_ruta, mejor_distancia\n",
        "\n",
        "# Definimos la matriz de distancias\n",
        "distancias = np.array([\n",
        "    [0, 1, 2, 3, 4],\n",
        "    [1, 0, 5, 6, 7],\n",
        "    [2, 5, 0, 8, 9],\n",
        "    [3, 6, 8, 0, 10],\n",
        "    [4, 7, 9, 10, 0]\n",
        "])\n",
        "\n",
        "# ejecutamos el algoritmo de la colonia de hormigas\n",
        "mejor_ruta, mejor_costo = hormigas_colonia(distancias, 10, 0.5, 1.0, 2.0, 1000)\n",
        "\n",
        "# imprimimos la mejor ruta y su costo\n",
        "print(\"Mejor ruta: \", mejor_ruta)\n",
        "print(\"Mejor costo: \", mejor_costo)\n"
      ],
      "metadata": {
        "colab": {
          "base_uri": "https://localhost:8080/"
        },
        "id": "rTbwYR6geuqo",
        "outputId": "a07f3ffe-4d3f-4d44-f99b-6e790fa6bd99"
      },
      "execution_count": 100,
      "outputs": [
        {
          "output_type": "stream",
          "name": "stderr",
          "text": [
            "<ipython-input-100-4e269d0c377e>:30: RuntimeWarning: divide by zero encountered in true_divide\n",
            "  p = feromonas[ruta[-1]] ** alpha * ((1.0 / distancias[ruta[-1]]) ** beta)\n"
          ]
        },
        {
          "output_type": "stream",
          "name": "stdout",
          "text": [
            "Mejor ruta:  [4, 0, 2, 3, 1]\n",
            "Mejor costo:  27\n"
          ]
        }
      ]
    },
    {
      "cell_type": "markdown",
      "source": [
        "### 9. Mejorar la implementación de colonia de hormigas en la AG3 (TSP) mediante una elección de nodo que tenga en consideración una función de probabilidad que depende de las feromonas."
      ],
      "metadata": {
        "id": "v9pFlNdYfQ6e"
      }
    },
    {
      "cell_type": "code",
      "source": [
        "def hormigas_colonia(distancias, n_hormigas, evaporacion, alpha, beta, iteraciones):\n",
        "    # número de ciudades\n",
        "    num_ciudades = len(distancias)\n",
        "\n",
        "    # inicializamos los niveles de feromonas en 1 para cada camino entre ciudades\n",
        "    feromonas = np.ones((num_ciudades, num_ciudades))\n",
        "\n",
        "    # inicializamos la mejor ruta y la mejor distancia con valores vacíos\n",
        "    mejor_ruta = None\n",
        "    mejor_distancia = np.inf\n",
        "\n",
        "    # iteramos sobre el número de iteraciones\n",
        "    for _ in range(iteraciones):\n",
        "\n",
        "        # inicializamos las rutas de las hormigas\n",
        "        rutas_hormigas = []\n",
        "\n",
        "        # por cada hormiga\n",
        "        for _ in range(n_hormigas):\n",
        "\n",
        "            # cada hormiga comienza en una ciudad aleatoria\n",
        "            ruta = [np.random.randint(num_ciudades)]\n",
        "\n",
        "            # cada hormiga construye su ruta\n",
        "            for _ in range(num_ciudades - 1):\n",
        "\n",
        "                # calculamos las probabilidades de las siguientes ciudades\n",
        "                # aquí se tiene en cuenta la cantidad de feromonas y la distancia\n",
        "                p = feromonas[ruta[-1]] ** alpha * ((1.0 / distancias[ruta[-1]]) ** beta)\n",
        "\n",
        "                # excluimos las ciudades ya visitadas\n",
        "                p[ruta] = 0\n",
        "\n",
        "                # normalizamos para convertir en probabilidad\n",
        "                p = p / p.sum()\n",
        "\n",
        "                # la hormiga elige la siguiente ciudad\n",
        "                ruta.append(np.random.choice(num_ciudades, p=p))\n",
        "\n",
        "            # añadimos la ruta de la hormiga a la lista de rutas\n",
        "            rutas_hormigas.append(ruta)\n",
        "\n",
        "        # reducimos las feromonas (evaporación)\n",
        "        feromonas *= evaporacion\n",
        "\n",
        "        # actualizamos las feromonas basándonos en las rutas de las hormigas\n",
        "        for ruta in rutas_hormigas:\n",
        "\n",
        "            # calculamos la distancia de la ruta\n",
        "            distancia = sum(distancias[ruta[i-1]][ruta[i]] for i in range(num_ciudades))\n",
        "\n",
        "            # si la distancia es mejor que la mejor encontrada hasta ahora, la actualizamos\n",
        "            if distancia < mejor_distancia:\n",
        "                mejor_distancia = distancia\n",
        "                mejor_ruta = ruta\n",
        "\n",
        "            # la hormiga añade feromonas a su ruta\n",
        "            feromonas[ruta[:-1], ruta[1:]] += 1.0 / distancia\n",
        "\n",
        "    # devolvemos la mejor ruta y la mejor distancia encontradas\n",
        "    return mejor_ruta, mejor_distancia\n",
        "\n",
        "# Definimos la matriz de distancias\n",
        "distancias = np.array([\n",
        "    [0, 1, 2, 3, 4],\n",
        "    [1, 0, 5, 6, 7],\n",
        "    [2, 5, 0, 8, 9],\n",
        "    [3, 6, 8, 0, 10],\n",
        "    [4, 7, 9, 10, 0]\n",
        "])\n",
        "\n",
        "# ejecutamos el algoritmo de la colonia de hormigas\n",
        "mejor_ruta, mejor_costo = hormigas_colonia(distancias, 10, 0.5, 1.0, 2.0, 1000)\n",
        "\n",
        "# imprimimos la mejor ruta y su costo\n",
        "print(\"Mejor ruta: \", mejor_ruta)\n",
        "print(\"Mejor costo: \", mejor_costo)\n"
      ],
      "metadata": {
        "colab": {
          "base_uri": "https://localhost:8080/"
        },
        "id": "X-ixv3zehY6p",
        "outputId": "31fb034f-6c24-4cb4-e21f-85a80dd65a5a"
      },
      "execution_count": 101,
      "outputs": [
        {
          "output_type": "stream",
          "name": "stderr",
          "text": [
            "<ipython-input-101-c2b0af49cfe5>:29: RuntimeWarning: divide by zero encountered in true_divide\n",
            "  p = feromonas[ruta[-1]] ** alpha * ((1.0 / distancias[ruta[-1]]) ** beta)\n"
          ]
        },
        {
          "output_type": "stream",
          "name": "stdout",
          "text": [
            "Mejor ruta:  [0, 2, 3, 1, 4]\n",
            "Mejor costo:  27\n"
          ]
        }
      ]
    },
    {
      "cell_type": "markdown",
      "source": [
        "### 10. Mejorar la implementación del algoritmo genético propuesto para la resolución del TSP."
      ],
      "metadata": {
        "id": "IZydzWxFhoYI"
      }
    },
    {
      "cell_type": "code",
      "source": [
        "# Función que calcula la \"aptitud\" o \"fitness\" de una ruta.\n",
        "# En el contexto del TSP, esto es simplemente la suma de las distancias entre las ciudades en la ruta.\n",
        "def calcular_fitness(ruta, distancias):\n",
        "    return sum(distancias[ruta[i-1]][ruta[i]] for i in range(len(ruta)))\n",
        "\n",
        "# Función que realiza el \"cruce\" entre dos \"padres\" para generar un \"hijo\".\n",
        "# Esta es una operación común en los algoritmos genéticos y se usa para combinar las características de dos soluciones existentes.\n",
        "def cruzar(padre1, padre2):\n",
        "    tamaño = len(padre1)\n",
        "    a, b = random.sample(range(tamaño), 2)\n",
        "    if a > b:\n",
        "        a, b = b, a\n",
        "\n",
        "    hijo = [None]*tamaño\n",
        "    for i in range(a, b + 1, 1):\n",
        "        hijo[i] = padre1[i]\n",
        "\n",
        "    punto = b + 1\n",
        "    for i in range(tamaño):\n",
        "        if punto == tamaño:\n",
        "            punto = 0\n",
        "        if padre2[i] not in hijo:\n",
        "            hijo[punto] = padre2[i]\n",
        "            punto += 1\n",
        "\n",
        "    return hijo\n",
        "\n",
        "# Función que realiza una \"mutación\" en un \"individuo\" (una solución).\n",
        "# Esto se hace para introducir variación en la población y ayuda a evitar que el algoritmo se quede atascado en soluciones subóptimas.\n",
        "def mutar(individuo):\n",
        "    i, j = random.sample(range(len(individuo)), 2)\n",
        "    individuo[i], individuo[j] = individuo[j], individuo[i]\n",
        "\n",
        "# Esta es la función principal que implementa el algoritmo genético.\n",
        "def algoritmo_genetico(distancias, tamaño_poblacion, generaciones, tasa_mutacion):\n",
        "    num_ciudades = len(distancias)\n",
        "\n",
        "    # Generar población inicial\n",
        "    poblacion = [random.sample(range(num_ciudades), num_ciudades) for _ in range(tamaño_poblacion)]\n",
        "\n",
        "    # Bucle principal del algoritmo genético\n",
        "    for gen in range(generaciones):\n",
        "        # Ordenamos la población en función de su fitness\n",
        "        poblacion.sort(key=lambda ruta: calcular_fitness(ruta, distancias))\n",
        "\n",
        "        # Selección: tomamos los mejores 50% de la población\n",
        "        poblacion = poblacion[:tamaño_poblacion//2]\n",
        "\n",
        "        # Cruce: generamos la nueva generación\n",
        "        items = list(range(tamaño_poblacion//2))\n",
        "        random.shuffle(items)\n",
        "        parejas = list(zip(items[::2], items[1::2]))\n",
        "        hijos = [cruzar(poblacion[i], poblacion[j]) for i, j in parejas]\n",
        "        poblacion += hijos\n",
        "\n",
        "        # Mutación\n",
        "        for i in range(len(poblacion)):\n",
        "            if random.random() < tasa_mutacion:\n",
        "                mutar(poblacion[i])\n",
        "\n",
        "    # Devolvemos la mejor solución encontrada\n",
        "    poblacion.sort(key=lambda ruta: calcular_fitness(ruta, distancias))\n",
        "    return poblacion[0], calcular_fitness(poblacion[0], distancias)\n",
        "\n",
        "# Definimos la matriz de distancias\n",
        "distancias = np.array([\n",
        "    [0, 1, 2, 3, 4],\n",
        "    [1, 0, 5, 6, 7],\n",
        "    [2, 5, 0, 8, 9],\n",
        "    [3, 6, 8, 0, 10],\n",
        "    [4, 7, 9, 10, 0]\n",
        "])\n",
        "\n",
        "mejor_ruta, mejor_distancia = algoritmo_genetico(distancias, 100, 1000, 0.1)\n",
        "\n",
        "print(\"Mejor ruta: \", mejor_ruta)\n",
        "print(\"Mejor distancia: \", mejor_distancia)\n"
      ],
      "metadata": {
        "colab": {
          "base_uri": "https://localhost:8080/"
        },
        "id": "bhqePKZ7hn1j",
        "outputId": "72ce8a0b-42e5-434a-a1dd-4c628423ceda"
      },
      "execution_count": 102,
      "outputs": [
        {
          "output_type": "stream",
          "name": "stdout",
          "text": [
            "Mejor ruta:  [3, 0, 2, 1, 4]\n",
            "Mejor distancia:  27\n"
          ]
        }
      ]
    }
  ]
}