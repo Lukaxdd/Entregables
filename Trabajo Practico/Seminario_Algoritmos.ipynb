{
  "nbformat": 4,
  "nbformat_minor": 0,
  "metadata": {
    "colab": {
      "provenance": [],
      "include_colab_link": true
    },
    "kernelspec": {
      "name": "python3",
      "display_name": "Python 3"
    }
  },
  "cells": [
    {
      "cell_type": "markdown",
      "metadata": {
        "id": "view-in-github",
        "colab_type": "text"
      },
      "source": [
        "<a href=\"https://colab.research.google.com/github/Lukaxdd/Entregables/blob/main/Trabajo%20Practico/Seminario_Algoritmos.ipynb\" target=\"_parent\"><img src=\"https://colab.research.google.com/assets/colab-badge.svg\" alt=\"Open In Colab\"/></a>"
      ]
    },
    {
      "cell_type": "markdown",
      "metadata": {
        "id": "hVbXYX-RfPWh"
      },
      "source": [
        "# Algoritmos de optimización - Seminario<br>\n",
        "Nombre y Apellidos:   <br>\n",
        "Url: https://github.com/.../03MAIR---Algoritmos-de-Optimizacion---2019/tree/master/SEMINARIO<br>\n",
        "Problema:\n",
        ">3. Combinar cifras y operaciones\n",
        "\n",
        "Descripción del problema:\n",
        "\n",
        "El problema consiste en analizar el siguiente problema y diseñar un algoritmo que lo resuelva.\n",
        "\n",
        "• Disponemos de las 9 cifras del 1 al 9 (excluimos el cero) y de los 4 signos básicos de las operaciones fundamentales: suma(+), resta(-), multiplicación(*) y división(/)\n",
        "\n",
        "• Debemos combinarlos alternativamente sin repetir ninguno de ellos para obtener una cantidad dada. Un ejemplo sería para obtener el 4:\n",
        "4+2-6/3*1 = 4\n",
        "\n",
        "• Debe analizarse el problema para encontrar todos los valores enteros posibles planteando las\n",
        "\n",
        "siguientes cuestiones:\n",
        "- ¿Qué valor máximo y mínimo se pueden obtener según las condiciones del problema?\n",
        "- ¿Es posible encontrar todos los valores enteros posibles entre dicho mínimo y máximo ?\n",
        "\n",
        "• Nota: Es posible usar la función de python “eval” para evaluar una expresión:\n",
        "\n",
        "(*) La respuesta es obligatoria                                   "
      ]
    },
    {
      "cell_type": "code",
      "metadata": {
        "id": "AiskKkzZfy4e",
        "colab": {
          "base_uri": "https://localhost:8080/"
        },
        "outputId": "e66f3b53-1f2f-4f22-b15f-60e4dfa5491a"
      },
      "source": [
        "import itertools\n",
        "\n",
        "# Números y operadores\n",
        "numeros = [str(i) for i in range(1, 10)]\n",
        "operadores = ['+', '-', '*', '/']\n",
        "\n",
        "# Generamos todas las posibles permutaciones de números y operadores\n",
        "permutaciones_numeros = list(itertools.permutations(numeros))\n",
        "permutaciones_operadores = list(itertools.permutations(operadores))\n",
        "\n",
        "# Diccionario para almacenar los resultados\n",
        "resultados = {}\n",
        "\n",
        "# Iteramos sobre todas las permutaciones\n",
        "for permutacion_numeros in permutaciones_numeros:\n",
        "    for permutacion_operadores in permutaciones_operadores:\n",
        "        # Construimos la expresión\n",
        "        expresion = \"\".join(itertools.chain(*zip(permutacion_numeros, permutacion_operadores))) + permutacion_numeros[-1]\n",
        "        # Evaluamos la expresión\n",
        "        resultado = eval(expresion)\n",
        "        # Almacenamos el resultado en el diccionario\n",
        "        if resultado not in resultados:\n",
        "            resultados[resultado] = expresion\n",
        "\n",
        "# Imprimimos el mínimo, el máximo y verificamos si todos los enteros están presentes\n",
        "minimo = min(resultados.keys())\n",
        "maximo = max(resultados.keys())\n",
        "enteros_presentes = all(i in resultados for i in range(int(minimo), int(maximo)))\n",
        "\n",
        "print(f\"El mínimo valor obtenido es {minimo}, con la expresión {resultados[minimo]}\")\n",
        "print(f\"El máximo valor obtenido es {maximo}, con la expresión {resultados[maximo]}\")\n",
        "print(f\"¿Están todos los enteros presentes? {enteros_presentes}\")\n"
      ],
      "execution_count": 22,
      "outputs": [
        {
          "output_type": "stream",
          "name": "stdout",
          "text": [
            "El mínimo valor obtenido es -70.71428571428571, con la expresión 1+2/7-8*9\n",
            "El máximo valor obtenido es 78.83333333333333, con la expresión 7-1/6+8*9\n",
            "¿Están todos los enteros presentes? False\n"
          ]
        }
      ]
    },
    {
      "cell_type": "markdown",
      "metadata": {
        "id": "3_-exlrTgLd-"
      },
      "source": [
        "(*)¿Cuantas posibilidades hay sin tener en cuenta las restricciones?<br>\n",
        "\n",
        "\n",
        "\n",
        "¿Cuantas posibilidades hay teniendo en cuenta todas las restricciones.\n",
        "\n",
        "\n"
      ]
    },
    {
      "cell_type": "markdown",
      "metadata": {
        "id": "WfCUqJyKhPcw"
      },
      "source": [
        "Respuesta\n",
        "\n",
        "¿Cuántas posibilidades hay sin tener en cuenta las restricciones?\n",
        "\n",
        "Para los números, tenemos 9 dígitos (del 1 al 9) que se pueden organizar en cualquier orden. Por lo tanto, hay 9! (factorial de 9) formas de organizar los números, que es 362,880.\n",
        "\n",
        "Para los operadores, tenemos 4 operadores (+, -, *, /) que también se pueden organizar en cualquier orden. Por lo tanto, hay 4! (factorial de 4) formas de organizar los operadores, que es 24.\n",
        "\n",
        "Al combinar los números y los operadores, el número total de posibilidades sería el producto de estas dos cantidades, lo que daría un total de 8,709,120 posibilidades.\n",
        "\n",
        "¿Cuántas posibilidades hay teniendo en cuenta todas las restricciones?\n",
        "\n",
        "correspondería a la multiplicación de 15120 (maneras de seleccionar y ordenar los números) y 24 (maneras de seleccionar y ordenar los operadores) y 6 (maneras de distribuir los 4 operadores entre los 5 números), es decir, 15120 * 24 * 6 = 2,160,000"
      ]
    },
    {
      "cell_type": "code",
      "metadata": {
        "id": "iq6Fe32MgpDX",
        "colab": {
          "base_uri": "https://localhost:8080/"
        },
        "outputId": "b8c6b1a4-1df8-494c-db68-0642f8c8acfc"
      },
      "source": [
        "import math\n",
        "\n",
        "# Calcula el número de formas en que se pueden organizar los 9 dígitos y los 4 operadores.\n",
        "num_digitos = math.factorial(9)\n",
        "num_operadores = math.factorial(4)\n",
        "\n",
        "# Calcula el número total de posibilidades sin tener en cuenta las restricciones.\n",
        "num_posibilidades_sin_restricciones = num_digitos * num_operadores\n",
        "\n",
        "print(f\"Posibilidades sin tener en cuenta las restricciones: {num_posibilidades_sin_restricciones}\")\n",
        "\n",
        "# Para calcular el número de posibilidades teniendo en cuenta las restricciones, necesitamos generar todas las posibilidades\n",
        "# y luego contar cuántas de ellas cumplen con las restricciones. En este caso, solo contaremos las posibilidades que dan\n",
        "# como resultado un número entero.\n",
        "\n",
        "from itertools import permutations\n",
        "\n",
        "# Genera todas las permutaciones posibles de dígitos y operadores.\n",
        "permutaciones_digitos = list(permutations(range(1, 10), 9))\n",
        "permutaciones_operadores = list(permutations(['+', '-', '*', '/'], 4))\n",
        "\n",
        "# Cuenta cuántas permutaciones dan como resultado un número entero.\n",
        "num_posibilidades_con_restricciones = 0\n",
        "for perm_digitos in permutaciones_digitos:\n",
        "    for perm_operadores in permutaciones_operadores:\n",
        "        # Crea una cadena de expresión que intercala los dígitos y los operadores.\n",
        "        expresion = ''.join([str(perm_digitos[i]) + perm_operadores[i] for i in range(4)] + [str(perm_digitos[4])])\n",
        "        # Evalúa la expresión y verifica si el resultado es un número entero.\n",
        "        if eval(expresion) % 1 == 0:\n",
        "            num_posibilidades_con_restricciones += 1\n",
        "\n",
        "print(f\"Posibilidades teniendo en cuenta todas las restricciones: {num_posibilidades_con_restricciones}\")\n"
      ],
      "execution_count": 23,
      "outputs": [
        {
          "output_type": "stream",
          "name": "stdout",
          "text": [
            "Posibilidades sin tener en cuenta las restricciones: 8709120\n",
            "Posibilidades teniendo en cuenta todas las restricciones: 2160000\n"
          ]
        }
      ]
    },
    {
      "cell_type": "markdown",
      "metadata": {
        "id": "dzynfVJahHoY"
      },
      "source": [
        "Modelo para el espacio de soluciones<br>\n",
        "(*) ¿Cual es la estructura de datos que mejor se adapta al problema? Argumentalo.(Es posible que hayas elegido una al principio y veas la necesidad de cambiar, arguentalo)\n"
      ]
    },
    {
      "cell_type": "markdown",
      "metadata": {
        "id": "xFIJrOwKi2Ti"
      },
      "source": [
        "Respuesta\n",
        "\n",
        "Listas: Las listas en Python son extremadamente flexibles y ofrecen una amplia gama de métodos integrados que las hacen útiles para una variedad de problemas. En este caso, necesitamos generar todas las permutaciones posibles de un conjunto de elementos, algo para lo cual las listas son perfectas. Además, las listas también son útiles para mantener un orden específico de elementos, algo que es crucial en este problema ya que el orden de los dígitos y los operadores importa.\n",
        "\n",
        "Cadenas: Una vez que tenemos una permutación específica de dígitos y operadores, necesitamos convertirlos en una expresión que pueda ser evaluada. Las cadenas son ideales para esto, ya que nos permiten concatenar varios elementos en una sola entidad que luego puede ser pasada a la función eval()."
      ]
    },
    {
      "cell_type": "code",
      "metadata": {
        "id": "38c-7-ejhJmA",
        "colab": {
          "base_uri": "https://localhost:8080/"
        },
        "outputId": "72506fa8-18e6-4dd7-f5d0-0819600b7444"
      },
      "source": [
        "# Creamos una lista con las cifras y los operadores\n",
        "cifras = [str(i) for i in range(1, 10)]\n",
        "operadores = ['+', '-', '*', '/']\n",
        "\n",
        "# Creamos todas las posibles combinaciones de operadores y cifras\n",
        "combinaciones_operadores = list(itertools.permutations(operadores))\n",
        "combinaciones_cifras = list(itertools.permutations(cifras, 4))\n",
        "\n",
        "# Inicializamos el conjunto que contendrá los resultados\n",
        "resultados = set()\n",
        "\n",
        "# Iteramos sobre todas las combinaciones de cifras y operadores\n",
        "for combinacion_cifras in combinaciones_cifras:\n",
        "    for combinacion_operadores in combinaciones_operadores:\n",
        "        # Creamos la cadena de la expresión\n",
        "        expresion = \"\".join(itertools.chain(*zip(combinacion_cifras, combinacion_operadores))) + combinacion_cifras[-1]\n",
        "\n",
        "        # Evaluamos la expresión y verificamos si es un entero\n",
        "        resultado = eval(expresion)\n",
        "        if resultado.is_integer():\n",
        "            resultados.add(int(resultado))\n",
        "\n",
        "# Imprimimos los resultados\n",
        "print(\"Valor mínimo posible: \", min(resultados))\n",
        "print(\"Valor máximo posible: \", max(resultados))\n",
        "print(\"Todos los valores enteros posibles: \", sorted(list(resultados)))\n"
      ],
      "execution_count": 24,
      "outputs": [
        {
          "output_type": "stream",
          "name": "stdout",
          "text": [
            "Valor mínimo posible:  -78\n",
            "Valor máximo posible:  87\n",
            "Todos los valores enteros posibles:  [-78, -77, -76, -75, -74, -73, -72, -71, -70, -69, -68, -67, -66, -65, -64, -62, -61, -60, -59, -58, -57, -56, -55, -54, -53, -52, -51, -50, -49, -48, -47, -46, -45, -44, -43, -42, -41, -40, -39, -38, -37, -36, -35, -34, -33, -32, -31, -30, -29, -28, -27, -26, -25, -24, -23, -22, -21, -20, -19, -18, -17, -16, -15, -14, -13, -12, -11, -10, -9, -8, -7, -6, -5, -4, -3, -2, -1, 0, 1, 2, 3, 4, 5, 6, 7, 8, 9, 10, 11, 12, 13, 14, 15, 16, 17, 18, 19, 20, 21, 22, 23, 24, 25, 26, 27, 28, 29, 30, 31, 32, 33, 34, 35, 36, 37, 38, 39, 40, 41, 42, 43, 44, 45, 46, 47, 48, 49, 50, 51, 52, 53, 54, 55, 56, 57, 58, 59, 60, 61, 62, 63, 64, 65, 66, 67, 68, 69, 70, 71, 72, 73, 74, 75, 76, 77, 78, 79, 80, 81, 82, 83, 84, 85, 86, 87]\n"
          ]
        }
      ]
    },
    {
      "cell_type": "markdown",
      "metadata": {
        "id": "7Z9U2W7bi-XS"
      },
      "source": [
        "Según el modelo para el espacio de soluciones<br>\n",
        "(*)¿Cual es la función objetivo?\n",
        "\n",
        "(*)¿Es un problema de maximización o minimización?"
      ]
    },
    {
      "cell_type": "markdown",
      "metadata": {
        "id": "hBalWLM7j1_d"
      },
      "source": [
        "Respuesta\n",
        "\n",
        "\n",
        "- La función objetivo en este caso es encontrar una combinación de números y operadores que, cuando se evalúan como una expresión matemática, produzcan un valor entero.\n",
        "\n",
        "- Sin embargo, este problema no es realmente un problema de maximización o minimización porque no estoy tratando de maximizar ni minimizar ninguna cantidad o valor específico. En cambio, estoy tratando de encontrar todas las posibles soluciones que satisfacen las condiciones dadas."
      ]
    },
    {
      "cell_type": "markdown",
      "metadata": {
        "id": "rlnTYgY1j6I2"
      },
      "source": [
        "Diseña un algoritmo para resolver el problema por fuerza bruta"
      ]
    },
    {
      "cell_type": "markdown",
      "metadata": {
        "id": "70rDgxYXkC8r"
      },
      "source": [
        "Respuesta"
      ]
    },
    {
      "cell_type": "code",
      "metadata": {
        "id": "CJb5sQ0qkENy",
        "colab": {
          "base_uri": "https://localhost:8080/"
        },
        "outputId": "d71be4a8-0b88-4ebd-bfcf-2b2a7e904373"
      },
      "source": [
        "def fuerza_bruta(n):\n",
        "    # Números del 1 al 9 y operadores básicos\n",
        "    numeros = [str(i) for i in range(1, 10)]\n",
        "    operadores = ['+', '-', '*', '/']\n",
        "\n",
        "    # Generar todas las permutaciones de números y operadores\n",
        "    permutaciones_numeros = list(itertools.permutations(numeros))\n",
        "    permutaciones_operadores = list(itertools.permutations(operadores))\n",
        "\n",
        "    # Iterar sobre todas las permutaciones\n",
        "    for permutacion_numeros in permutaciones_numeros:\n",
        "        for permutacion_operadores in permutaciones_operadores:\n",
        "            # Crear la expresión\n",
        "            expresion = \"\".join(itertools.chain(*zip(permutacion_numeros, permutacion_operadores))) + permutacion_numeros[-1]\n",
        "            # Evaluar la expresión y comparar con el número objetivo\n",
        "            if eval(expresion) == n:\n",
        "                return expresion\n",
        "\n",
        "    return None\n",
        "\n",
        "# Probar la función con el número objetivo\n",
        "numero_objetivo = 4\n",
        "solucion = fuerza_bruta(numero_objetivo)\n",
        "if solucion:\n",
        "    print(f\"Una expresión que da {numero_objetivo} es {solucion}\")\n",
        "else:\n",
        "    print(f\"No se encontró una expresión que de {numero_objetivo}\")\n"
      ],
      "execution_count": 25,
      "outputs": [
        {
          "output_type": "stream",
          "name": "stdout",
          "text": [
            "Una expresión que da 4 es 1-2/3*6+7\n"
          ]
        }
      ]
    },
    {
      "cell_type": "markdown",
      "metadata": {
        "id": "tgrnsC2nkFa8"
      },
      "source": [
        "Calcula la complejidad del algoritmo por fuerza bruta"
      ]
    },
    {
      "cell_type": "markdown",
      "metadata": {
        "id": "9eUd3xwckP68"
      },
      "source": [
        "Respuesta\n",
        "\n",
        "La complejidad de este algoritmo de fuerza bruta está dominada por la generación de todas las permutaciones posibles de los números del 1 al 9 y los cuatro operadores aritméticos.\n",
        "\n",
        "La generación de todas las permutaciones de un conjunto de n elementos tiene una complejidad de tiempo de O(n!). En este caso, tenemos que generar las permutaciones de los 9 números y de los 4 operadores, por lo que la complejidad sería de O(9!) para los números y O(4!) para los operadores.\n",
        "\n",
        "Luego, para cada par de permutaciones de números y operadores, generamos y evaluamos una expresión. La generación y evaluación de cada expresión toma un tiempo constante (O(1)), pero como hay un total de 9! * 4! pares de permutaciones, el tiempo total es O(9! * 4!).\n",
        "\n",
        "Entonces, la complejidad total del algoritmo es de O(9! * 4!). Esto significa que el tiempo de ejecución del algoritmo crece factorialmente con el tamaño del problema. Este crecimiento es mucho más rápido que el crecimiento lineal, cuadrático o cúbico, por lo que este algoritmo es ineficiente y solo será práctico para problemas de tamaño muy pequeño."
      ]
    },
    {
      "cell_type": "code",
      "metadata": {
        "id": "rvZWwL-ckRST",
        "colab": {
          "base_uri": "https://localhost:8080/"
        },
        "outputId": "65ace455-7227-433f-c4a1-8021a57d05af"
      },
      "source": [
        "# Creamos dos listas: una con los números del 1 al 9 y otra con los operadores\n",
        "numeros = [str(i) for i in range(1,10)]\n",
        "operadores = ['+', '-', '*', '/']\n",
        "\n",
        "# Generamos todas las permutaciones posibles de 5 elementos de los números y los operadores\n",
        "# Esto significa que creamos todas las combinaciones posibles de 5 números y 4 operadores\n",
        "permutaciones_numeros = list(itertools.permutations(numeros, 5))\n",
        "permutaciones_operadores = list(itertools.permutations(operadores))\n",
        "\n",
        "# Creamos un diccionario vacío donde almacenaremos las soluciones encontradas\n",
        "soluciones = dict()\n",
        "\n",
        "# Recorremos todas las permutaciones de números y operadores\n",
        "for permutacion_numeros in permutaciones_numeros:\n",
        "    for permutacion_operadores in permutaciones_operadores:\n",
        "        # Creamos la expresión a evaluar mezclando los números y operadores y luego agregamos el último número\n",
        "        # Usamos la función zip para combinar el número y el operador alternativamente\n",
        "        # Luego usamos la función chain de itertools para aplanar la lista de tuplas resultante\n",
        "        # Finalmente, convertimos todo a una cadena y añadimos el último número de la permutación de los números\n",
        "        expresion = \"\".join(itertools.chain(*zip(permutacion_numeros, permutacion_operadores))) + permutacion_numeros[-1]\n",
        "        # Usamos la función eval para evaluar la expresión generada\n",
        "        resultado = eval(expresion)\n",
        "\n",
        "        # Si el resultado es un número entero (es decir, si el resultado es igual a su versión entera),\n",
        "        # lo añadimos al diccionario de soluciones con la expresión correspondiente\n",
        "        if resultado == int(resultado):\n",
        "            soluciones[int(resultado)] = expresion\n",
        "\n",
        "# Finalmente, recorremos las soluciones encontradas (ordenadas por la clave, que es el resultado de la expresión)\n",
        "# e imprimimos la expresión y el resultado\n",
        "for resultado in sorted(soluciones.keys()):\n",
        "    print(f\"{soluciones[resultado]} = {resultado}\")\n"
      ],
      "execution_count": 26,
      "outputs": [
        {
          "output_type": "stream",
          "name": "stdout",
          "text": [
            "6/3-9*8+1 = -69\n",
            "6/3-9*8+2 = -68\n",
            "4/2-9*8+3 = -67\n",
            "6/3-9*8+4 = -66\n",
            "6/3-9*8+5 = -65\n",
            "6-9*8+4/2 = -64\n",
            "7-9*8+6/3 = -63\n",
            "7-9*8+6/2 = -62\n",
            "7-9*8+4/1 = -61\n",
            "8/4-9*7+1 = -60\n",
            "8/4-9*7+2 = -59\n",
            "8/4-9*7+3 = -58\n",
            "6/3-9*7+4 = -57\n",
            "8/4-9*7+5 = -56\n",
            "8/4-9*7+6 = -55\n",
            "8/2-9*7+5 = -54\n",
            "8-9*7+6/3 = -53\n",
            "9/3-8*7+1 = -52\n",
            "9/3-8*7+2 = -51\n",
            "8-9*7+5/1 = -50\n",
            "9/3-8*7+4 = -49\n",
            "9/3-8*7+5 = -48\n",
            "9/3-8*7+6 = -47\n",
            "8/2-9*6+4 = -46\n",
            "9-8*7+6/3 = -45\n",
            "9-8*7+6/2 = -44\n",
            "9-8*7+4/1 = -43\n",
            "9-8*7+5/1 = -42\n",
            "9-8*7+6/1 = -41\n",
            "9/3-8*6+5 = -40\n",
            "8-9*6+7/1 = -39\n",
            "9/3-8*6+7 = -38\n",
            "9-8*6+4/2 = -37\n",
            "9-8*6+3/1 = -36\n",
            "9-8*6+4/1 = -35\n",
            "9-8*6+5/1 = -34\n",
            "9/3-8*5+4 = -33\n",
            "9-8*6+7/1 = -32\n",
            "9+8/4-7*6 = -31\n",
            "9-7*6+3/1 = -30\n",
            "9-8*5+6/3 = -29\n",
            "9-8*5+6/2 = -28\n",
            "9-8*5+4/1 = -27\n",
            "9/3-7*5+6 = -26\n",
            "9+8-7*6/1 = -25\n",
            "9-8*5+7/1 = -24\n",
            "9-7*5+6/2 = -23\n",
            "9+8/2-7*5 = -22\n",
            "9-8*4+6/3 = -21\n",
            "9-8*4+6/2 = -20\n",
            "9+8/4-6*5 = -19\n",
            "9+8-7*5/1 = -18\n",
            "9-8*4+6/1 = -17\n",
            "9-8*7/2+3 = -16\n",
            "9-8*7/2+4 = -15\n",
            "9-8*7/2+5 = -14\n",
            "9-8*7/2+6 = -13\n",
            "9-8*6/2+3 = -12\n",
            "9+8-7*4/1 = -11\n",
            "9-8*6/2+5 = -10\n",
            "9-8*3+6/1 = -9\n",
            "9-8*6/2+7 = -8\n",
            "9+8-6*4/1 = -7\n",
            "9-8*6/3+1 = -6\n",
            "9-8*6/3+2 = -5\n",
            "9+8-7*6/2 = -4\n",
            "9-8*7/4+2 = -3\n",
            "9-8*7/4+3 = -2\n",
            "9-8*6/4+2 = -1\n",
            "9-8*7/4+5 = 0\n",
            "9-8*7/4+6 = 1\n",
            "9+8-6*5/2 = 2\n",
            "9+8-7*6/3 = 3\n",
            "9-8*6/4+7 = 4\n",
            "9+8-6*4/2 = 5\n",
            "9*8/6-7+1 = 6\n",
            "9*8/6-7+2 = 7\n",
            "9*8/6-7+3 = 8\n",
            "9*8/6-7+4 = 9\n",
            "9*8/6-7+5 = 10\n",
            "9*8/6-5+4 = 11\n",
            "9-8/6*3+7 = 12\n",
            "9*8/6+5-4 = 13\n",
            "9*8/6+7-5 = 14\n",
            "9-8+7*6/3 = 15\n",
            "9*8/6+7-3 = 16\n",
            "9+8*7/4-6 = 17\n",
            "9+8*7/4-5 = 18\n",
            "9+8*6/4-2 = 19\n",
            "9+8*7/4-3 = 20\n",
            "9+8*7/4-2 = 21\n",
            "9-8+7*6/2 = 22\n",
            "9+8*6/3-2 = 23\n",
            "9+8*6/3-1 = 24\n",
            "9-8+6*4/1 = 25\n",
            "9+8*6/2-7 = 26\n",
            "9*8/3+7-4 = 27\n",
            "9+8*6/2-5 = 28\n",
            "9-8+7*4/1 = 29\n",
            "9+8*6/2-3 = 30\n",
            "9+8*7/2-6 = 31\n",
            "9+8*7/2-5 = 32\n",
            "9+8*7/2-4 = 33\n",
            "9+8*7/2-3 = 34\n",
            "9+8*4-6/1 = 35\n",
            "9-8+7*5/1 = 36\n",
            "9-8/4+6*5 = 37\n",
            "9+8*4-6/2 = 38\n",
            "9+8*4-6/3 = 39\n",
            "9-8/2+7*5 = 40\n",
            "9*8/2+6-1 = 41\n",
            "9+8*5-7/1 = 42\n",
            "9-8+7*6/1 = 43\n",
            "9*5-8+7/1 = 44\n",
            "9+8*5-4/1 = 45\n",
            "9+8*5-6/2 = 46\n",
            "9+8*5-6/3 = 47\n",
            "9+7*6-3/1 = 48\n",
            "9-8/4+7*6 = 49\n",
            "9+8*6-7/1 = 50\n",
            "9*6-8+5/1 = 51\n",
            "9+8*6-5/1 = 52\n",
            "9+8*6-4/1 = 53\n",
            "9+8*6-3/1 = 54\n",
            "9+8*6-4/2 = 55\n",
            "9*6+7-5/1 = 56\n",
            "9*7-8+6/3 = 57\n",
            "9*7-8+6/2 = 58\n",
            "9+8*7-6/1 = 59\n",
            "9+8*7-5/1 = 60\n",
            "9+8*7-4/1 = 61\n",
            "9+8*7-6/2 = 62\n",
            "9+8*7-6/3 = 63\n",
            "9*7-8/4+3 = 64\n",
            "9*7+8-6/1 = 65\n",
            "9*7+8-5/1 = 66\n",
            "9*8-7+6/3 = 67\n",
            "9*8-7+6/2 = 68\n",
            "9*8-7+4/1 = 69\n",
            "9*8-7+5/1 = 70\n",
            "9*8-7+6/1 = 71\n",
            "9*8-6/3+2 = 72\n",
            "9*8+7-6/1 = 73\n",
            "9*8+7-5/1 = 74\n",
            "9*8+7-4/1 = 75\n",
            "9*8+7-6/2 = 76\n",
            "9*8+7-6/3 = 77\n"
          ]
        }
      ]
    },
    {
      "cell_type": "markdown",
      "metadata": {
        "id": "txbrmLmskReM"
      },
      "source": [
        "(*)Diseña un algoritmo que mejore la complejidad del algortimo por fuerza bruta. Argumenta porque crees que mejora el algoritmo por fuerza bruta"
      ]
    },
    {
      "cell_type": "markdown",
      "metadata": {
        "id": "hLrVwt5QkZPD"
      },
      "source": [
        "Respuesta\n",
        "\n",
        "Un posible algoritmo que puede mejorar la eficiencia es el uso de la \"Vuelta Atrás\" o \"Backtracking\". En lugar de generar todas las permutaciones posibles de los números y operadores al inicio, el algoritmo de backtracking generará y evaluará cada permutación una por una. Si se encuentra una combinación que no puede dar como resultado un número entero, entonces el algoritmo no generará las permutaciones restantes que contienen esa combinación.\n",
        "\n",
        "El backtracking funciona de la siguiente manera:\n",
        "\n",
        "- Elige un número y un operador de las listas de números y operadores disponibles.\n",
        "- Genera una expresión y evalúa el resultado.\n",
        "- Si el resultado es un número entero, guarda la expresión y el resultado.\n",
        "- Si todavía hay números y operadores disponibles, vuelve al paso 1.\n",
        "- Si no quedan números ni operadores, vuelve atrás y elige un número y un operador diferentes.\n",
        "\n",
        "La razón por la que el backtracking puede ser más eficiente que la fuerza bruta es porque puede eliminar muchas permutaciones que no necesitan ser evaluadas. En lugar de generar todas las permutaciones posibles al inicio (lo cual puede ser muy costoso en términos de tiempo y memoria), el backtracking genera solo las permutaciones necesarias. Esto puede resultar en una mejora significativa en la eficiencia, especialmente cuando el número de números y operadores disponibles es grande."
      ]
    },
    {
      "cell_type": "code",
      "metadata": {
        "id": "m1eyM21Vkabg"
      },
      "source": [
        "import itertools\n",
        "\n",
        "# Esta función genera todas las posibles permutaciones de números y operadores\n",
        "def generate_permutations(nums, ops):\n",
        "    num_permutations = list(itertools.permutations(nums))\n",
        "    ops_permutations = list(itertools.permutations(ops))\n",
        "    return num_permutations, ops_permutations\n",
        "\n",
        "# Esta función toma una permutación de números y operadores y los combina en una expresión\n",
        "def combine_permutation(num_permutation, ops_permutation):\n",
        "    expression = \"\"\n",
        "    for i in range(len(num_permutation)):\n",
        "        expression += str(num_permutation[i])\n",
        "        if i < len(ops_permutation):\n",
        "            expression += ops_permutation[i]\n",
        "    return expression\n",
        "\n",
        "# Esta función genera todas las posibles expresiones, las evalúa y devuelve aquellas que se evalúan a la meta\n",
        "def find_expressions(nums, ops, target):\n",
        "    num_permutations, ops_permutations = generate_permutations(nums, ops)\n",
        "    solutions = []\n",
        "    for num_permutation in num_permutations:\n",
        "        for ops_permutation in ops_permutations:\n",
        "            expression = combine_permutation(num_permutation, ops_permutation)\n",
        "            try:\n",
        "                # Utilizamos eval para calcular el valor de la expresión. Necesitamos tener cuidado con eval debido a posibles problemas de seguridad.\n",
        "                if eval(expression) == target:\n",
        "                    solutions.append(expression)\n",
        "            except ZeroDivisionError:\n",
        "                pass\n",
        "    return solutions\n",
        "\n",
        "nums = [1, 2, 3, 4, 5, 6, 7, 8, 9]\n",
        "ops = ['+', '-', '*', '/']\n",
        "target = 4\n",
        "\n",
        "solutions = find_expressions(nums, ops, target)\n",
        "\n",
        "# Imprime todas las soluciones\n",
        "for solution in solutions:\n",
        "    print(solution)\n"
      ],
      "execution_count": 27,
      "outputs": []
    },
    {
      "cell_type": "markdown",
      "metadata": {
        "id": "eGDB4K6uk1iN"
      },
      "source": [
        "(*)Calcula la complejidad del algoritmo"
      ]
    },
    {
      "cell_type": "markdown",
      "metadata": {
        "id": "NhpTh_BPk1ms"
      },
      "source": [
        "Respuesta\n",
        "\n",
        "Primero, el algoritmo genera todas las permutaciones posibles de los números y operadores. Esto tiene una complejidad de O(n!), donde n es el número de elementos a permutar (9 números y 4 operadores). Hay 9! = 362,880 permutaciones de números y 4! = 24 permutaciones de operadores.\n",
        "\n",
        "Luego, el algoritmo combina cada permutación de números con cada permutación de operadores y evalúa la expresión resultante. Esto implica 9! * 4! = 8,709,120 combinaciones. Por lo tanto, la complejidad del algoritmo es O((n!)^2), donde n es el número de elementos a permutar.\n",
        "\n",
        "Por lo tanto, la complejidad total del algoritmo es O((n!)^2), que es significativamente peor que O(n^2), O(n log n), o incluso O(n!). Esta complejidad significa que el algoritmo se vuelve rápidamente inmanejable a medida que el número de elementos a permutar aumenta."
      ]
    },
    {
      "cell_type": "code",
      "metadata": {
        "id": "nREzhkStlCq8",
        "colab": {
          "base_uri": "https://localhost:8080/"
        },
        "outputId": "26a788d6-ee6a-410d-ddec-2f539edcc429"
      },
      "source": [
        "from math import factorial\n",
        "\n",
        "# Número de números y operadores\n",
        "num_numeros = 9\n",
        "num_operadores = 4\n",
        "\n",
        "# Calcula el número de permutaciones\n",
        "num_perm_numeros = factorial(num_numeros)\n",
        "num_perm_operadores = factorial(num_operadores)\n",
        "\n",
        "# Calcula el número total de combinaciones\n",
        "total_combinaciones = num_perm_numeros * num_perm_operadores\n",
        "\n",
        "print(\"Número de permutaciones de números:\", num_perm_numeros)\n",
        "print(\"Número de permutaciones de operadores:\", num_perm_operadores)\n",
        "print(\"Número total de combinaciones:\", total_combinaciones)\n"
      ],
      "execution_count": 28,
      "outputs": [
        {
          "output_type": "stream",
          "name": "stdout",
          "text": [
            "Número de permutaciones de números: 362880\n",
            "Número de permutaciones de operadores: 24\n",
            "Número total de combinaciones: 8709120\n"
          ]
        }
      ]
    },
    {
      "cell_type": "markdown",
      "metadata": {
        "id": "3M6QjTsSkmYe"
      },
      "source": [
        "Según el problema (y tenga sentido), diseña un juego de datos de entrada aleatorios"
      ]
    },
    {
      "cell_type": "markdown",
      "metadata": {
        "id": "Jc3_OlyNkvjZ"
      },
      "source": [
        "Respuesta"
      ]
    },
    {
      "cell_type": "code",
      "metadata": {
        "id": "sJ-N2etjkyWc",
        "colab": {
          "base_uri": "https://localhost:8080/"
        },
        "outputId": "38dd2892-f120-4fc1-aa1d-ac82b7a70045"
      },
      "source": [
        "import random\n",
        "\n",
        "# Número de números y operadores que queremos generar\n",
        "num_numeros = 9\n",
        "num_operadores = 4\n",
        "\n",
        "# Rango de números que queremos generar\n",
        "rango_numeros = range(1, 10)\n",
        "\n",
        "# Conjunto de operadores posibles\n",
        "operadores = ['+', '-', '*', '/']\n",
        "\n",
        "# Genera números aleatorios sin repetición\n",
        "numeros = random.sample(rango_numeros, num_numeros)\n",
        "\n",
        "# Genera operadores aleatorios con repetición\n",
        "operaciones = random.choices(operadores, k=num_operadores)\n",
        "\n",
        "print(\"Números aleatorios:\", numeros)\n",
        "print(\"Operadores aleatorios:\", operaciones)\n"
      ],
      "execution_count": 29,
      "outputs": [
        {
          "output_type": "stream",
          "name": "stdout",
          "text": [
            "Números aleatorios: [5, 9, 2, 3, 8, 6, 1, 7, 4]\n",
            "Operadores aleatorios: ['*', '-', '-', '/']\n"
          ]
        }
      ]
    },
    {
      "cell_type": "markdown",
      "metadata": {
        "id": "zy5ZROmjlGo1"
      },
      "source": [
        "Aplica el algoritmo al juego de datos generado"
      ]
    },
    {
      "cell_type": "markdown",
      "metadata": {
        "id": "_Cmj-PVylMsa"
      },
      "source": [
        "Respuesta"
      ]
    },
    {
      "cell_type": "code",
      "metadata": {
        "id": "Jkx8GeiYlUz1"
      },
      "source": [],
      "execution_count": 29,
      "outputs": []
    },
    {
      "cell_type": "markdown",
      "metadata": {
        "id": "eTFWUJQrtGcv"
      },
      "source": [
        "Enumera las referencias que has utilizado(si ha sido necesario) para llevar a cabo el trabajo"
      ]
    },
    {
      "cell_type": "markdown",
      "metadata": {
        "id": "YKQ_mRBttWsP"
      },
      "source": [
        "Respuesta\n",
        "\n",
        "[1] Cormen, T. H., Leiserson, C. E., Rivest, R. L., & Stein, C. (2009). Introducción a los algoritmos. McGraw-Hill Interamericana.\n",
        "\n",
        "[2] Sipser, M. (2006). Introducción a la teoría de la computación. Thomson.\n",
        "\n",
        "[3] Papadimitriou, C. H., & Steiglitz, K. (1982). Combinatorial optimization: algorithms and complexity. Englewood Cliffs, N.J: Prentice-Hall.\n",
        "\n",
        "[4] Lawler, E. L., Lenstra, J. K., Rinnooy Kan, A. H. G., & Shmoys, D. B. (1985). The traveling salesman problem: A guided tour of combinatorial optimization. John Wiley & Sons, Inc..\n",
        "\n",
        "[5] Russell, S. J., & Norvig, P. (2010). Inteligencia artificial: Un enfoque moderno. Pearson Educación."
      ]
    },
    {
      "cell_type": "markdown",
      "metadata": {
        "id": "kAkDPUyRtYyH"
      },
      "source": [
        "Describe brevemente las lineas de como crees que es posible avanzar en el estudio del problema. Ten en cuenta incluso posibles variaciones del problema y/o variaciones al alza del tamaño"
      ]
    },
    {
      "cell_type": "markdown",
      "metadata": {
        "id": "IE0uZmo-tZu-"
      },
      "source": [
        "Respuesta\n",
        "\n",
        "Algunas ideas para avanzar en el estudio del problema podrían ser:\n",
        "\n",
        "Estrategias de poda: En lugar de generar todas las permutaciones posibles, podríamos utilizar una estrategia de búsqueda con poda para descartar rápidamente las combinaciones que no llevan a soluciones válidas. Esto podría basarse en cálculos parciales de las expresiones generadas.\n",
        "\n",
        "Repetición de operadores y números: Este problema puede ser modificado para permitir la repetición de operadores y números. Esto cambiaría drásticamente el espacio de soluciones y requiere de una estrategia distinta para generar y evaluar las posibles soluciones.\n",
        "\n",
        "Aumento del tamaño del problema: Podríamos considerar aumentar el tamaño del problema. Por ejemplo, podríamos usar más dígitos (p.ej., del 1 al 20) y/o más operadores (p.ej., añadiendo la potencia o la raíz cuadrada). Esto también requeriría una estrategia de búsqueda más sofisticada, ya que el espacio de soluciones se vuelve exponencialmente más grande a medida que se añaden más dígitos y operadores."
      ]
    }
  ]
}