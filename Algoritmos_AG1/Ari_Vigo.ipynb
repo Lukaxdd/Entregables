{
  "nbformat": 4,
  "nbformat_minor": 0,
  "metadata": {
    "colab": {
      "provenance": [],
      "authorship_tag": "ABX9TyPv8jy4M2CgfOMUuAEnkdMy",
      "include_colab_link": true
    },
    "kernelspec": {
      "name": "python3",
      "display_name": "Python 3"
    },
    "language_info": {
      "name": "python"
    }
  },
  "cells": [
    {
      "cell_type": "markdown",
      "metadata": {
        "id": "view-in-github",
        "colab_type": "text"
      },
      "source": [
        "<a href=\"https://colab.research.google.com/github/Lukaxdd/Entregables/blob/main/Algoritmos_AG1/Ari_Vigo.ipynb\" target=\"_parent\"><img src=\"https://colab.research.google.com/assets/colab-badge.svg\" alt=\"Open In Colab\"/></a>"
      ]
    },
    {
      "cell_type": "markdown",
      "source": [
        "# Algoritmos - Actividad Guiada 1\n",
        "\n",
        "Nombre: Alberto Román José Ari Vigo<br>\n",
        "URL: https://colab.research.google.com/drive/1ZFiEE9K2LpJckh3HSEzbN7ocMjghxJ9I?usp=sharing\n",
        "\n",
        "https://github.com/Lukaxdd/Entregables.git"
      ],
      "metadata": {
        "id": "tlVmeR8Es9zP"
      }
    },
    {
      "cell_type": "markdown",
      "source": [
        "## Torres de Hanoi con Divide y vencerás"
      ],
      "metadata": {
        "id": "0Ig8Jdk-tA0Z"
      }
    },
    {
      "cell_type": "code",
      "source": [
        "def Torres_Hanoi(N, desde, hasta):\n",
        "  if N ==1 :\n",
        "    print(\"Lleva la ficha \" ,desde , \" hasta \", hasta )\n",
        "\n",
        "  else:\n",
        "    #Torres_Hanoi(N-1, desde, 6-desde-hasta )\n",
        "    Torres_Hanoi(N-1, desde, 6-desde-hasta )\n",
        "    print(\"Lleva la ficha \" ,desde , \" hasta \", hasta )\n",
        "    #Torres_Hanoi(N-1,6-desde-hasta, hasta )\n",
        "    Torres_Hanoi(N-1, 6-desde-hasta  , hasta )\n",
        "\n",
        "\n",
        "Torres_Hanoi(3, 1 , 3)"
      ],
      "metadata": {
        "colab": {
          "base_uri": "https://localhost:8080/"
        },
        "id": "3f74NSHftAb1",
        "outputId": "210c30b9-8a49-4bb0-9e5a-c37ee530efca"
      },
      "execution_count": 1,
      "outputs": [
        {
          "output_type": "stream",
          "name": "stdout",
          "text": [
            "Lleva la ficha  1  hasta  3\n",
            "Lleva la ficha  1  hasta  2\n",
            "Lleva la ficha  3  hasta  2\n",
            "Lleva la ficha  1  hasta  3\n",
            "Lleva la ficha  2  hasta  1\n",
            "Lleva la ficha  2  hasta  3\n",
            "Lleva la ficha  1  hasta  3\n"
          ]
        }
      ]
    },
    {
      "cell_type": "markdown",
      "source": [
        "## Sucesión_de_Fibonacci"
      ],
      "metadata": {
        "id": "Jye-aOUutUUU"
      }
    },
    {
      "cell_type": "code",
      "execution_count": null,
      "metadata": {
        "id": "MGxqpWZis4qf"
      },
      "outputs": [],
      "source": [
        "\n",
        "#https://es.wikipedia.org/wiki/Sucesi%C3%B3n_de_Fibonacci\n",
        "#Calculo del termino n-simo de la suscesión de Fibonacci\n",
        "def Fibonacci(N:int):\n",
        "  if N < 2:\n",
        "    return 1\n",
        "  else:\n",
        "    return Fibonacci(N-1)+Fibonacci(N-2)\n",
        "\n",
        "Fibonacci(5)"
      ]
    },
    {
      "cell_type": "markdown",
      "source": [
        "## Devolución de cambio por técnica voraz"
      ],
      "metadata": {
        "id": "Y1stScArtZT7"
      }
    },
    {
      "cell_type": "code",
      "source": [
        "def cambio_monedas(N, SM):\n",
        "  SOLUCION = [0]*len(SM)   #SOLUCION = [0,0,0,0,..]\n",
        "  ValorAcumulado = 0\n",
        "\n",
        "  for i,valor in enumerate(SM):\n",
        "    monedas =  (N-ValorAcumulado)//valor\n",
        "    SOLUCION[i] = monedas\n",
        "    ValorAcumulado = ValorAcumulado + monedas*valor\n",
        "\n",
        "    if ValorAcumulado == N:\n",
        "      return SOLUCION\n",
        "\n",
        "\n",
        "cambio_monedas(15,[25,10,5,1])"
      ],
      "metadata": {
        "colab": {
          "base_uri": "https://localhost:8080/"
        },
        "id": "_8LCy9wFta3i",
        "outputId": "2ab0c58d-3cc1-43b1-db29-ee880034ab77"
      },
      "execution_count": 2,
      "outputs": [
        {
          "output_type": "execute_result",
          "data": {
            "text/plain": [
              "[0, 1, 1, 0]"
            ]
          },
          "metadata": {},
          "execution_count": 2
        }
      ]
    },
    {
      "cell_type": "markdown",
      "source": [
        "## N-Reinas por técnica de vueta atrás"
      ],
      "metadata": {
        "id": "cDVQB-T3tc1Z"
      }
    },
    {
      "cell_type": "code",
      "source": [
        "def escribe(S):\n",
        "  n = len(S)\n",
        "  for x in range(n):\n",
        "    print(\"\")\n",
        "    for i in range(n):\n",
        "      if S[i] == x+1:\n",
        "        print(\" X \" , end=\"\")\n",
        "      else:\n",
        "        print(\" - \", end=\"\")\n",
        "\n",
        "\n",
        "def es_prometedora(SOLUCION,etapa):\n",
        "  #print(SOLUCION)\n",
        "  #Si la solución tiene dos valores iguales no es valida => Dos reinas en la misma fila\n",
        "  for i in range(etapa+1):\n",
        "    #print(\"El valor \" + str(SOLUCION[i]) + \" está \" +  str(SOLUCION.count(SOLUCION[i])) + \" veces\")\n",
        "    if SOLUCION.count(SOLUCION[i]) > 1:\n",
        "      return False\n",
        "\n",
        "    #Verifica las diagonales\n",
        "    for j in range(i+1, etapa +1 ):\n",
        "      #print(\"Comprobando diagonal de \" + str(i) + \" y \" + str(j))\n",
        "      if abs(i-j) == abs(SOLUCION[i]-SOLUCION[j]) : return False\n",
        "  return True\n",
        "\n",
        "\n",
        "\n",
        "def reinas(N, solucion=[], etapa=0):\n",
        "  if len(solucion) == 0:\n",
        "      solucion=[0 for i in range(N)]\n",
        "\n",
        "  for i in range(1, N+1):\n",
        "    solucion[etapa] = i\n",
        "\n",
        "    if es_prometedora(solucion, etapa):\n",
        "      if etapa == N-1:\n",
        "        print(solucion)\n",
        "        #escribe(solucion)\n",
        "        print()\n",
        "      else:\n",
        "        reinas(N, solucion, etapa+1)\n",
        "    else:\n",
        "      None\n",
        "\n",
        "    solucion[etapa] = 0\n",
        "\n",
        "reinas(8)"
      ],
      "metadata": {
        "colab": {
          "base_uri": "https://localhost:8080/"
        },
        "id": "rpCF91letcUJ",
        "outputId": "f3d07777-254d-4e22-f0a8-b7bd7ed5c042"
      },
      "execution_count": 3,
      "outputs": [
        {
          "output_type": "stream",
          "name": "stdout",
          "text": [
            "[1, 5, 8, 6, 3, 7, 2, 4]\n",
            "\n",
            "[1, 6, 8, 3, 7, 4, 2, 5]\n",
            "\n",
            "[1, 7, 4, 6, 8, 2, 5, 3]\n",
            "\n",
            "[1, 7, 5, 8, 2, 4, 6, 3]\n",
            "\n",
            "[2, 4, 6, 8, 3, 1, 7, 5]\n",
            "\n",
            "[2, 5, 7, 1, 3, 8, 6, 4]\n",
            "\n",
            "[2, 5, 7, 4, 1, 8, 6, 3]\n",
            "\n",
            "[2, 6, 1, 7, 4, 8, 3, 5]\n",
            "\n",
            "[2, 6, 8, 3, 1, 4, 7, 5]\n",
            "\n",
            "[2, 7, 3, 6, 8, 5, 1, 4]\n",
            "\n",
            "[2, 7, 5, 8, 1, 4, 6, 3]\n",
            "\n",
            "[2, 8, 6, 1, 3, 5, 7, 4]\n",
            "\n",
            "[3, 1, 7, 5, 8, 2, 4, 6]\n",
            "\n",
            "[3, 5, 2, 8, 1, 7, 4, 6]\n",
            "\n",
            "[3, 5, 2, 8, 6, 4, 7, 1]\n",
            "\n",
            "[3, 5, 7, 1, 4, 2, 8, 6]\n",
            "\n",
            "[3, 5, 8, 4, 1, 7, 2, 6]\n",
            "\n",
            "[3, 6, 2, 5, 8, 1, 7, 4]\n",
            "\n",
            "[3, 6, 2, 7, 1, 4, 8, 5]\n",
            "\n",
            "[3, 6, 2, 7, 5, 1, 8, 4]\n",
            "\n",
            "[3, 6, 4, 1, 8, 5, 7, 2]\n",
            "\n",
            "[3, 6, 4, 2, 8, 5, 7, 1]\n",
            "\n",
            "[3, 6, 8, 1, 4, 7, 5, 2]\n",
            "\n",
            "[3, 6, 8, 1, 5, 7, 2, 4]\n",
            "\n",
            "[3, 6, 8, 2, 4, 1, 7, 5]\n",
            "\n",
            "[3, 7, 2, 8, 5, 1, 4, 6]\n",
            "\n",
            "[3, 7, 2, 8, 6, 4, 1, 5]\n",
            "\n",
            "[3, 8, 4, 7, 1, 6, 2, 5]\n",
            "\n",
            "[4, 1, 5, 8, 2, 7, 3, 6]\n",
            "\n",
            "[4, 1, 5, 8, 6, 3, 7, 2]\n",
            "\n",
            "[4, 2, 5, 8, 6, 1, 3, 7]\n",
            "\n",
            "[4, 2, 7, 3, 6, 8, 1, 5]\n",
            "\n",
            "[4, 2, 7, 3, 6, 8, 5, 1]\n",
            "\n",
            "[4, 2, 7, 5, 1, 8, 6, 3]\n",
            "\n",
            "[4, 2, 8, 5, 7, 1, 3, 6]\n",
            "\n",
            "[4, 2, 8, 6, 1, 3, 5, 7]\n",
            "\n",
            "[4, 6, 1, 5, 2, 8, 3, 7]\n",
            "\n",
            "[4, 6, 8, 2, 7, 1, 3, 5]\n",
            "\n",
            "[4, 6, 8, 3, 1, 7, 5, 2]\n",
            "\n",
            "[4, 7, 1, 8, 5, 2, 6, 3]\n",
            "\n",
            "[4, 7, 3, 8, 2, 5, 1, 6]\n",
            "\n",
            "[4, 7, 5, 2, 6, 1, 3, 8]\n",
            "\n",
            "[4, 7, 5, 3, 1, 6, 8, 2]\n",
            "\n",
            "[4, 8, 1, 3, 6, 2, 7, 5]\n",
            "\n",
            "[4, 8, 1, 5, 7, 2, 6, 3]\n",
            "\n",
            "[4, 8, 5, 3, 1, 7, 2, 6]\n",
            "\n",
            "[5, 1, 4, 6, 8, 2, 7, 3]\n",
            "\n",
            "[5, 1, 8, 4, 2, 7, 3, 6]\n",
            "\n",
            "[5, 1, 8, 6, 3, 7, 2, 4]\n",
            "\n",
            "[5, 2, 4, 6, 8, 3, 1, 7]\n",
            "\n",
            "[5, 2, 4, 7, 3, 8, 6, 1]\n",
            "\n",
            "[5, 2, 6, 1, 7, 4, 8, 3]\n",
            "\n",
            "[5, 2, 8, 1, 4, 7, 3, 6]\n",
            "\n",
            "[5, 3, 1, 6, 8, 2, 4, 7]\n",
            "\n",
            "[5, 3, 1, 7, 2, 8, 6, 4]\n",
            "\n",
            "[5, 3, 8, 4, 7, 1, 6, 2]\n",
            "\n",
            "[5, 7, 1, 3, 8, 6, 4, 2]\n",
            "\n",
            "[5, 7, 1, 4, 2, 8, 6, 3]\n",
            "\n",
            "[5, 7, 2, 4, 8, 1, 3, 6]\n",
            "\n",
            "[5, 7, 2, 6, 3, 1, 4, 8]\n",
            "\n",
            "[5, 7, 2, 6, 3, 1, 8, 4]\n",
            "\n",
            "[5, 7, 4, 1, 3, 8, 6, 2]\n",
            "\n",
            "[5, 8, 4, 1, 3, 6, 2, 7]\n",
            "\n",
            "[5, 8, 4, 1, 7, 2, 6, 3]\n",
            "\n",
            "[6, 1, 5, 2, 8, 3, 7, 4]\n",
            "\n",
            "[6, 2, 7, 1, 3, 5, 8, 4]\n",
            "\n",
            "[6, 2, 7, 1, 4, 8, 5, 3]\n",
            "\n",
            "[6, 3, 1, 7, 5, 8, 2, 4]\n",
            "\n",
            "[6, 3, 1, 8, 4, 2, 7, 5]\n",
            "\n",
            "[6, 3, 1, 8, 5, 2, 4, 7]\n",
            "\n",
            "[6, 3, 5, 7, 1, 4, 2, 8]\n",
            "\n",
            "[6, 3, 5, 8, 1, 4, 2, 7]\n",
            "\n",
            "[6, 3, 7, 2, 4, 8, 1, 5]\n",
            "\n",
            "[6, 3, 7, 2, 8, 5, 1, 4]\n",
            "\n",
            "[6, 3, 7, 4, 1, 8, 2, 5]\n",
            "\n",
            "[6, 4, 1, 5, 8, 2, 7, 3]\n",
            "\n",
            "[6, 4, 2, 8, 5, 7, 1, 3]\n",
            "\n",
            "[6, 4, 7, 1, 3, 5, 2, 8]\n",
            "\n",
            "[6, 4, 7, 1, 8, 2, 5, 3]\n",
            "\n",
            "[6, 8, 2, 4, 1, 7, 5, 3]\n",
            "\n",
            "[7, 1, 3, 8, 6, 4, 2, 5]\n",
            "\n",
            "[7, 2, 4, 1, 8, 5, 3, 6]\n",
            "\n",
            "[7, 2, 6, 3, 1, 4, 8, 5]\n",
            "\n",
            "[7, 3, 1, 6, 8, 5, 2, 4]\n",
            "\n",
            "[7, 3, 8, 2, 5, 1, 6, 4]\n",
            "\n",
            "[7, 4, 2, 5, 8, 1, 3, 6]\n",
            "\n",
            "[7, 4, 2, 8, 6, 1, 3, 5]\n",
            "\n",
            "[7, 5, 3, 1, 6, 8, 2, 4]\n",
            "\n",
            "[8, 2, 4, 1, 7, 5, 3, 6]\n",
            "\n",
            "[8, 2, 5, 3, 1, 7, 4, 6]\n",
            "\n",
            "[8, 3, 1, 6, 2, 5, 7, 4]\n",
            "\n",
            "[8, 4, 1, 3, 6, 2, 7, 5]\n",
            "\n"
          ]
        }
      ]
    }
  ]
}